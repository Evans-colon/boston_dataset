{
 "cells": [
  {
   "cell_type": "code",
   "execution_count": 60,
   "metadata": {
    "pycharm": {
     "name": "#%%\n"
    }
   },
   "outputs": [],
   "source": [
    "import pandas as pd\n",
    "import numpy as np\n",
    "import seaborn as sns\n",
    "import matplotlib.pyplot as plt\n",
    "from sklearn.model_selection import train_test_split\n",
    "from statsmodels.stats.outliers_influence import variance_inflation_factor\n",
    "from sklearn.preprocessing import FunctionTransformer, StandardScaler, PowerTransformer\n",
    "from sklearn.compose import ColumnTransformer, make_column_selector, make_column_transformer\n",
    "import matplotlib.pyplot as plt\n",
    "from sklearn.feature_selection import SelectFromModel\n",
    "from sklearn.preprocessing import StandardScaler\n",
    "from sklearn.impute import SimpleImputer\n",
    "from sklearn.pipeline import make_pipeline, Pipeline\n",
    "from sklearn.metrics import mean_squared_error, r2_score\n",
    "from sklearn.model_selection import GridSearchCV, RandomizedSearchCV, cross_val_score\n",
    "from sklearn.feature_selection import SelectFromModel\n",
    "from sklearn.linear_model import LinearRegression, Ridge, Lasso, ElasticNet\n",
    "from yellowbrick.regressor import ResidualsPlot\n",
    "from sklearn.svm import SVR\n",
    "from sklearn.ensemble import RandomForestRegressor\n",
    "from xgboost import XGBRegressor\n",
    "from scipy.stats import randint\n",
    "import joblib\n",
    "\n",
    "\n"
   ]
  },
  {
   "cell_type": "code",
   "execution_count": 2,
   "metadata": {},
   "outputs": [],
   "source": [
    "# pip install xgboost"
   ]
  },
  {
   "cell_type": "code",
   "execution_count": 3,
   "metadata": {
    "pycharm": {
     "name": "#%%\n"
    }
   },
   "outputs": [
    {
     "data": {
      "text/html": [
       "<div>\n",
       "<style scoped>\n",
       "    .dataframe tbody tr th:only-of-type {\n",
       "        vertical-align: middle;\n",
       "    }\n",
       "\n",
       "    .dataframe tbody tr th {\n",
       "        vertical-align: top;\n",
       "    }\n",
       "\n",
       "    .dataframe thead th {\n",
       "        text-align: right;\n",
       "    }\n",
       "</style>\n",
       "<table border=\"1\" class=\"dataframe\">\n",
       "  <thead>\n",
       "    <tr style=\"text-align: right;\">\n",
       "      <th></th>\n",
       "      <th>CRIM</th>\n",
       "      <th>ZN</th>\n",
       "      <th>INDUS</th>\n",
       "      <th>CHAS</th>\n",
       "      <th>NOX</th>\n",
       "      <th>RM</th>\n",
       "      <th>AGE</th>\n",
       "      <th>DIS</th>\n",
       "      <th>RAD</th>\n",
       "      <th>TAX</th>\n",
       "      <th>PTRATIO</th>\n",
       "      <th>B</th>\n",
       "      <th>LSTAT</th>\n",
       "      <th>MEDV</th>\n",
       "    </tr>\n",
       "  </thead>\n",
       "  <tbody>\n",
       "    <tr>\n",
       "      <th>0</th>\n",
       "      <td>0.00632</td>\n",
       "      <td>18.0</td>\n",
       "      <td>2.31</td>\n",
       "      <td>0</td>\n",
       "      <td>0.538</td>\n",
       "      <td>6.575</td>\n",
       "      <td>65.2</td>\n",
       "      <td>4.0900</td>\n",
       "      <td>1</td>\n",
       "      <td>296.0</td>\n",
       "      <td>15.3</td>\n",
       "      <td>396.90</td>\n",
       "      <td>4.98</td>\n",
       "      <td>24.0</td>\n",
       "    </tr>\n",
       "    <tr>\n",
       "      <th>1</th>\n",
       "      <td>0.02731</td>\n",
       "      <td>0.0</td>\n",
       "      <td>7.07</td>\n",
       "      <td>0</td>\n",
       "      <td>0.469</td>\n",
       "      <td>6.421</td>\n",
       "      <td>78.9</td>\n",
       "      <td>4.9671</td>\n",
       "      <td>2</td>\n",
       "      <td>242.0</td>\n",
       "      <td>17.8</td>\n",
       "      <td>396.90</td>\n",
       "      <td>9.14</td>\n",
       "      <td>21.6</td>\n",
       "    </tr>\n",
       "    <tr>\n",
       "      <th>2</th>\n",
       "      <td>0.02729</td>\n",
       "      <td>0.0</td>\n",
       "      <td>7.07</td>\n",
       "      <td>0</td>\n",
       "      <td>0.469</td>\n",
       "      <td>7.185</td>\n",
       "      <td>61.1</td>\n",
       "      <td>4.9671</td>\n",
       "      <td>2</td>\n",
       "      <td>242.0</td>\n",
       "      <td>17.8</td>\n",
       "      <td>392.83</td>\n",
       "      <td>4.03</td>\n",
       "      <td>34.7</td>\n",
       "    </tr>\n",
       "  </tbody>\n",
       "</table>\n",
       "</div>"
      ],
      "text/plain": [
       "      CRIM    ZN  INDUS  CHAS    NOX     RM   AGE     DIS  RAD    TAX  \\\n",
       "0  0.00632  18.0   2.31     0  0.538  6.575  65.2  4.0900    1  296.0   \n",
       "1  0.02731   0.0   7.07     0  0.469  6.421  78.9  4.9671    2  242.0   \n",
       "2  0.02729   0.0   7.07     0  0.469  7.185  61.1  4.9671    2  242.0   \n",
       "\n",
       "   PTRATIO       B  LSTAT  MEDV  \n",
       "0     15.3  396.90   4.98  24.0  \n",
       "1     17.8  396.90   9.14  21.6  \n",
       "2     17.8  392.83   4.03  34.7  "
      ]
     },
     "execution_count": 3,
     "metadata": {},
     "output_type": "execute_result"
    }
   ],
   "source": [
    "df_boston = pd.read_csv('boston.csv', header=0, sep=',')\n",
    "df_boston.head(3)"
   ]
  },
  {
   "cell_type": "code",
   "execution_count": 4,
   "metadata": {
    "pycharm": {
     "name": "#%%\n"
    }
   },
   "outputs": [
    {
     "data": {
      "text/html": [
       "<div>\n",
       "<style scoped>\n",
       "    .dataframe tbody tr th:only-of-type {\n",
       "        vertical-align: middle;\n",
       "    }\n",
       "\n",
       "    .dataframe tbody tr th {\n",
       "        vertical-align: top;\n",
       "    }\n",
       "\n",
       "    .dataframe thead th {\n",
       "        text-align: right;\n",
       "    }\n",
       "</style>\n",
       "<table border=\"1\" class=\"dataframe\">\n",
       "  <thead>\n",
       "    <tr style=\"text-align: right;\">\n",
       "      <th></th>\n",
       "      <th>crime_rate</th>\n",
       "      <th>land_zoned_for_lots</th>\n",
       "      <th>non_retail_business</th>\n",
       "      <th>charles_river</th>\n",
       "      <th>nitric_oxides</th>\n",
       "      <th>rooms_per_dwelling</th>\n",
       "      <th>ownership_before</th>\n",
       "      <th>distance_to_employment</th>\n",
       "      <th>access_to_highways</th>\n",
       "      <th>tax_per_10k</th>\n",
       "      <th>pupil_to_teacher</th>\n",
       "      <th>blacks_to_town</th>\n",
       "      <th>lower_status_percent</th>\n",
       "      <th>value_of_owner_occupied_homes</th>\n",
       "    </tr>\n",
       "  </thead>\n",
       "  <tbody>\n",
       "    <tr>\n",
       "      <th>0</th>\n",
       "      <td>0.00632</td>\n",
       "      <td>18.0</td>\n",
       "      <td>2.31</td>\n",
       "      <td>0</td>\n",
       "      <td>0.538</td>\n",
       "      <td>6.575</td>\n",
       "      <td>65.2</td>\n",
       "      <td>4.0900</td>\n",
       "      <td>1</td>\n",
       "      <td>296.0</td>\n",
       "      <td>15.3</td>\n",
       "      <td>396.90</td>\n",
       "      <td>4.98</td>\n",
       "      <td>24.0</td>\n",
       "    </tr>\n",
       "    <tr>\n",
       "      <th>1</th>\n",
       "      <td>0.02731</td>\n",
       "      <td>0.0</td>\n",
       "      <td>7.07</td>\n",
       "      <td>0</td>\n",
       "      <td>0.469</td>\n",
       "      <td>6.421</td>\n",
       "      <td>78.9</td>\n",
       "      <td>4.9671</td>\n",
       "      <td>2</td>\n",
       "      <td>242.0</td>\n",
       "      <td>17.8</td>\n",
       "      <td>396.90</td>\n",
       "      <td>9.14</td>\n",
       "      <td>21.6</td>\n",
       "    </tr>\n",
       "    <tr>\n",
       "      <th>2</th>\n",
       "      <td>0.02729</td>\n",
       "      <td>0.0</td>\n",
       "      <td>7.07</td>\n",
       "      <td>0</td>\n",
       "      <td>0.469</td>\n",
       "      <td>7.185</td>\n",
       "      <td>61.1</td>\n",
       "      <td>4.9671</td>\n",
       "      <td>2</td>\n",
       "      <td>242.0</td>\n",
       "      <td>17.8</td>\n",
       "      <td>392.83</td>\n",
       "      <td>4.03</td>\n",
       "      <td>34.7</td>\n",
       "    </tr>\n",
       "  </tbody>\n",
       "</table>\n",
       "</div>"
      ],
      "text/plain": [
       "   crime_rate  land_zoned_for_lots  non_retail_business  charles_river  \\\n",
       "0     0.00632                 18.0                 2.31              0   \n",
       "1     0.02731                  0.0                 7.07              0   \n",
       "2     0.02729                  0.0                 7.07              0   \n",
       "\n",
       "   nitric_oxides  rooms_per_dwelling  ownership_before  \\\n",
       "0          0.538               6.575              65.2   \n",
       "1          0.469               6.421              78.9   \n",
       "2          0.469               7.185              61.1   \n",
       "\n",
       "   distance_to_employment  access_to_highways  tax_per_10k  pupil_to_teacher  \\\n",
       "0                  4.0900                   1        296.0              15.3   \n",
       "1                  4.9671                   2        242.0              17.8   \n",
       "2                  4.9671                   2        242.0              17.8   \n",
       "\n",
       "   blacks_to_town  lower_status_percent  value_of_owner_occupied_homes  \n",
       "0          396.90                  4.98                           24.0  \n",
       "1          396.90                  9.14                           21.6  \n",
       "2          392.83                  4.03                           34.7  "
      ]
     },
     "execution_count": 4,
     "metadata": {},
     "output_type": "execute_result"
    }
   ],
   "source": [
    "df_boston.columns = ['crime_rate', 'land_zoned_for_lots', 'non_retail_business', 'charles_river', 'nitric_oxides', 'rooms_per_dwelling', 'ownership_before', 'distance_to_employment', 'access_to_highways', 'tax_per_10k', 'pupil_to_teacher', 'blacks_to_town', 'lower_status_percent', 'value_of_owner_occupied_homes']\n",
    "df_boston.head(3)"
   ]
  },
  {
   "cell_type": "code",
   "execution_count": 5,
   "metadata": {
    "pycharm": {
     "name": "#%%\n"
    }
   },
   "outputs": [
    {
     "name": "stdout",
     "output_type": "stream",
     "text": [
      "<class 'pandas.core.frame.DataFrame'>\n",
      "RangeIndex: 506 entries, 0 to 505\n",
      "Data columns (total 14 columns):\n",
      " #   Column                         Non-Null Count  Dtype  \n",
      "---  ------                         --------------  -----  \n",
      " 0   crime_rate                     506 non-null    float64\n",
      " 1   land_zoned_for_lots            506 non-null    float64\n",
      " 2   non_retail_business            506 non-null    float64\n",
      " 3   charles_river                  506 non-null    int64  \n",
      " 4   nitric_oxides                  506 non-null    float64\n",
      " 5   rooms_per_dwelling             506 non-null    float64\n",
      " 6   ownership_before               506 non-null    float64\n",
      " 7   distance_to_employment         506 non-null    float64\n",
      " 8   access_to_highways             506 non-null    int64  \n",
      " 9   tax_per_10k                    506 non-null    float64\n",
      " 10  pupil_to_teacher               506 non-null    float64\n",
      " 11  blacks_to_town                 506 non-null    float64\n",
      " 12  lower_status_percent           506 non-null    float64\n",
      " 13  value_of_owner_occupied_homes  506 non-null    float64\n",
      "dtypes: float64(12), int64(2)\n",
      "memory usage: 55.5 KB\n"
     ]
    }
   ],
   "source": [
    "df_boston.info()"
   ]
  },
  {
   "cell_type": "code",
   "execution_count": 6,
   "metadata": {
    "pycharm": {
     "name": "#%%\n"
    }
   },
   "outputs": [
    {
     "data": {
      "text/plain": [
       "crime_rate                       0\n",
       "land_zoned_for_lots              0\n",
       "non_retail_business              0\n",
       "charles_river                    0\n",
       "nitric_oxides                    0\n",
       "rooms_per_dwelling               0\n",
       "ownership_before                 0\n",
       "distance_to_employment           0\n",
       "access_to_highways               0\n",
       "tax_per_10k                      0\n",
       "pupil_to_teacher                 0\n",
       "blacks_to_town                   0\n",
       "lower_status_percent             0\n",
       "value_of_owner_occupied_homes    0\n",
       "dtype: int64"
      ]
     },
     "execution_count": 6,
     "metadata": {},
     "output_type": "execute_result"
    }
   ],
   "source": [
    "df_boston.isnull().sum()"
   ]
  },
  {
   "cell_type": "code",
   "execution_count": 7,
   "metadata": {
    "pycharm": {
     "name": "#%%\n"
    }
   },
   "outputs": [
    {
     "name": "stdout",
     "output_type": "stream",
     "text": [
      "['crime_rate', 'land_zoned_for_lots', 'non_retail_business', 'charles_river', 'nitric_oxides', 'rooms_per_dwelling', 'ownership_before', 'distance_to_employment', 'access_to_highways', 'tax_per_10k', 'pupil_to_teacher', 'blacks_to_town', 'lower_status_percent', 'value_of_owner_occupied_homes']\n"
     ]
    }
   ],
   "source": [
    "pd.options.display.max_columns= None\n",
    "pd.options.display.max_rows = None\n",
    "print(df_boston.columns.tolist())"
   ]
  },
  {
   "cell_type": "code",
   "execution_count": 8,
   "metadata": {
    "pycharm": {
     "name": "#%%\n"
    }
   },
   "outputs": [
    {
     "data": {
      "text/plain": [
       "value_of_owner_occupied_homes    1.000000\n",
       "rooms_per_dwelling               0.695360\n",
       "land_zoned_for_lots              0.360445\n",
       "blacks_to_town                   0.333461\n",
       "distance_to_employment           0.249929\n",
       "charles_river                    0.175260\n",
       "ownership_before                -0.376955\n",
       "access_to_highways              -0.381626\n",
       "crime_rate                      -0.388305\n",
       "nitric_oxides                   -0.427321\n",
       "tax_per_10k                     -0.468536\n",
       "non_retail_business             -0.483725\n",
       "pupil_to_teacher                -0.507787\n",
       "lower_status_percent            -0.737663\n",
       "Name: value_of_owner_occupied_homes, dtype: float64"
      ]
     },
     "execution_count": 8,
     "metadata": {},
     "output_type": "execute_result"
    }
   ],
   "source": [
    "corr_max = df_boston.corr()\n",
    "correlation = corr_max['value_of_owner_occupied_homes'].sort_values(ascending=False)\n",
    "correlation"
   ]
  },
  {
   "cell_type": "code",
   "execution_count": 9,
   "metadata": {
    "pycharm": {
     "name": "#%%\n"
    }
   },
   "outputs": [
    {
     "data": {
      "text/html": [
       "<div>\n",
       "<style scoped>\n",
       "    .dataframe tbody tr th:only-of-type {\n",
       "        vertical-align: middle;\n",
       "    }\n",
       "\n",
       "    .dataframe tbody tr th {\n",
       "        vertical-align: top;\n",
       "    }\n",
       "\n",
       "    .dataframe thead th {\n",
       "        text-align: right;\n",
       "    }\n",
       "</style>\n",
       "<table border=\"1\" class=\"dataframe\">\n",
       "  <thead>\n",
       "    <tr style=\"text-align: right;\">\n",
       "      <th></th>\n",
       "      <th>crime_rate</th>\n",
       "      <th>land_zoned_for_lots</th>\n",
       "      <th>non_retail_business</th>\n",
       "      <th>charles_river</th>\n",
       "      <th>nitric_oxides</th>\n",
       "      <th>rooms_per_dwelling</th>\n",
       "      <th>ownership_before</th>\n",
       "      <th>distance_to_employment</th>\n",
       "      <th>access_to_highways</th>\n",
       "      <th>tax_per_10k</th>\n",
       "      <th>pupil_to_teacher</th>\n",
       "      <th>blacks_to_town</th>\n",
       "      <th>lower_status_percent</th>\n",
       "      <th>value_of_owner_occupied_homes</th>\n",
       "    </tr>\n",
       "  </thead>\n",
       "  <tbody>\n",
       "    <tr>\n",
       "      <th>count</th>\n",
       "      <td>506.000000</td>\n",
       "      <td>506.000000</td>\n",
       "      <td>506.000000</td>\n",
       "      <td>506.000000</td>\n",
       "      <td>506.000000</td>\n",
       "      <td>506.000000</td>\n",
       "      <td>506.000000</td>\n",
       "      <td>506.000000</td>\n",
       "      <td>506.000000</td>\n",
       "      <td>506.000000</td>\n",
       "      <td>506.000000</td>\n",
       "      <td>506.000000</td>\n",
       "      <td>506.000000</td>\n",
       "      <td>506.000000</td>\n",
       "    </tr>\n",
       "    <tr>\n",
       "      <th>mean</th>\n",
       "      <td>3.613524</td>\n",
       "      <td>11.363636</td>\n",
       "      <td>11.136779</td>\n",
       "      <td>0.069170</td>\n",
       "      <td>0.554695</td>\n",
       "      <td>6.284634</td>\n",
       "      <td>68.574901</td>\n",
       "      <td>3.795043</td>\n",
       "      <td>9.549407</td>\n",
       "      <td>408.237154</td>\n",
       "      <td>18.455534</td>\n",
       "      <td>356.674032</td>\n",
       "      <td>12.653063</td>\n",
       "      <td>22.532806</td>\n",
       "    </tr>\n",
       "    <tr>\n",
       "      <th>std</th>\n",
       "      <td>8.601545</td>\n",
       "      <td>23.322453</td>\n",
       "      <td>6.860353</td>\n",
       "      <td>0.253994</td>\n",
       "      <td>0.115878</td>\n",
       "      <td>0.702617</td>\n",
       "      <td>28.148861</td>\n",
       "      <td>2.105710</td>\n",
       "      <td>8.707259</td>\n",
       "      <td>168.537116</td>\n",
       "      <td>2.164946</td>\n",
       "      <td>91.294864</td>\n",
       "      <td>7.141062</td>\n",
       "      <td>9.197104</td>\n",
       "    </tr>\n",
       "    <tr>\n",
       "      <th>min</th>\n",
       "      <td>0.006320</td>\n",
       "      <td>0.000000</td>\n",
       "      <td>0.460000</td>\n",
       "      <td>0.000000</td>\n",
       "      <td>0.385000</td>\n",
       "      <td>3.561000</td>\n",
       "      <td>2.900000</td>\n",
       "      <td>1.129600</td>\n",
       "      <td>1.000000</td>\n",
       "      <td>187.000000</td>\n",
       "      <td>12.600000</td>\n",
       "      <td>0.320000</td>\n",
       "      <td>1.730000</td>\n",
       "      <td>5.000000</td>\n",
       "    </tr>\n",
       "    <tr>\n",
       "      <th>25%</th>\n",
       "      <td>0.082045</td>\n",
       "      <td>0.000000</td>\n",
       "      <td>5.190000</td>\n",
       "      <td>0.000000</td>\n",
       "      <td>0.449000</td>\n",
       "      <td>5.885500</td>\n",
       "      <td>45.025000</td>\n",
       "      <td>2.100175</td>\n",
       "      <td>4.000000</td>\n",
       "      <td>279.000000</td>\n",
       "      <td>17.400000</td>\n",
       "      <td>375.377500</td>\n",
       "      <td>6.950000</td>\n",
       "      <td>17.025000</td>\n",
       "    </tr>\n",
       "    <tr>\n",
       "      <th>50%</th>\n",
       "      <td>0.256510</td>\n",
       "      <td>0.000000</td>\n",
       "      <td>9.690000</td>\n",
       "      <td>0.000000</td>\n",
       "      <td>0.538000</td>\n",
       "      <td>6.208500</td>\n",
       "      <td>77.500000</td>\n",
       "      <td>3.207450</td>\n",
       "      <td>5.000000</td>\n",
       "      <td>330.000000</td>\n",
       "      <td>19.050000</td>\n",
       "      <td>391.440000</td>\n",
       "      <td>11.360000</td>\n",
       "      <td>21.200000</td>\n",
       "    </tr>\n",
       "    <tr>\n",
       "      <th>75%</th>\n",
       "      <td>3.677083</td>\n",
       "      <td>12.500000</td>\n",
       "      <td>18.100000</td>\n",
       "      <td>0.000000</td>\n",
       "      <td>0.624000</td>\n",
       "      <td>6.623500</td>\n",
       "      <td>94.075000</td>\n",
       "      <td>5.188425</td>\n",
       "      <td>24.000000</td>\n",
       "      <td>666.000000</td>\n",
       "      <td>20.200000</td>\n",
       "      <td>396.225000</td>\n",
       "      <td>16.955000</td>\n",
       "      <td>25.000000</td>\n",
       "    </tr>\n",
       "    <tr>\n",
       "      <th>max</th>\n",
       "      <td>88.976200</td>\n",
       "      <td>100.000000</td>\n",
       "      <td>27.740000</td>\n",
       "      <td>1.000000</td>\n",
       "      <td>0.871000</td>\n",
       "      <td>8.780000</td>\n",
       "      <td>100.000000</td>\n",
       "      <td>12.126500</td>\n",
       "      <td>24.000000</td>\n",
       "      <td>711.000000</td>\n",
       "      <td>22.000000</td>\n",
       "      <td>396.900000</td>\n",
       "      <td>37.970000</td>\n",
       "      <td>50.000000</td>\n",
       "    </tr>\n",
       "  </tbody>\n",
       "</table>\n",
       "</div>"
      ],
      "text/plain": [
       "       crime_rate  land_zoned_for_lots  non_retail_business  charles_river  \\\n",
       "count  506.000000           506.000000           506.000000     506.000000   \n",
       "mean     3.613524            11.363636            11.136779       0.069170   \n",
       "std      8.601545            23.322453             6.860353       0.253994   \n",
       "min      0.006320             0.000000             0.460000       0.000000   \n",
       "25%      0.082045             0.000000             5.190000       0.000000   \n",
       "50%      0.256510             0.000000             9.690000       0.000000   \n",
       "75%      3.677083            12.500000            18.100000       0.000000   \n",
       "max     88.976200           100.000000            27.740000       1.000000   \n",
       "\n",
       "       nitric_oxides  rooms_per_dwelling  ownership_before  \\\n",
       "count     506.000000          506.000000        506.000000   \n",
       "mean        0.554695            6.284634         68.574901   \n",
       "std         0.115878            0.702617         28.148861   \n",
       "min         0.385000            3.561000          2.900000   \n",
       "25%         0.449000            5.885500         45.025000   \n",
       "50%         0.538000            6.208500         77.500000   \n",
       "75%         0.624000            6.623500         94.075000   \n",
       "max         0.871000            8.780000        100.000000   \n",
       "\n",
       "       distance_to_employment  access_to_highways  tax_per_10k  \\\n",
       "count              506.000000          506.000000   506.000000   \n",
       "mean                 3.795043            9.549407   408.237154   \n",
       "std                  2.105710            8.707259   168.537116   \n",
       "min                  1.129600            1.000000   187.000000   \n",
       "25%                  2.100175            4.000000   279.000000   \n",
       "50%                  3.207450            5.000000   330.000000   \n",
       "75%                  5.188425           24.000000   666.000000   \n",
       "max                 12.126500           24.000000   711.000000   \n",
       "\n",
       "       pupil_to_teacher  blacks_to_town  lower_status_percent  \\\n",
       "count        506.000000      506.000000            506.000000   \n",
       "mean          18.455534      356.674032             12.653063   \n",
       "std            2.164946       91.294864              7.141062   \n",
       "min           12.600000        0.320000              1.730000   \n",
       "25%           17.400000      375.377500              6.950000   \n",
       "50%           19.050000      391.440000             11.360000   \n",
       "75%           20.200000      396.225000             16.955000   \n",
       "max           22.000000      396.900000             37.970000   \n",
       "\n",
       "       value_of_owner_occupied_homes  \n",
       "count                     506.000000  \n",
       "mean                       22.532806  \n",
       "std                         9.197104  \n",
       "min                         5.000000  \n",
       "25%                        17.025000  \n",
       "50%                        21.200000  \n",
       "75%                        25.000000  \n",
       "max                        50.000000  "
      ]
     },
     "execution_count": 9,
     "metadata": {},
     "output_type": "execute_result"
    }
   ],
   "source": [
    "df_boston.describe()"
   ]
  },
  {
   "cell_type": "code",
   "execution_count": 10,
   "metadata": {
    "pycharm": {
     "name": "#%%\n"
    }
   },
   "outputs": [
    {
     "data": {
      "image/png": "[encoded data removed]",
      "text/plain": [
       "<Figure size 864x720 with 16 Axes>"
      ]
     },
     "metadata": {},
     "output_type": "display_data"
    }
   ],
   "source": [
    "plt.rc('font', size = 10)\n",
    "plt.rc('legend', fontsize = 10)\n",
    "plt.rc('axes', labelsize = 10, titlesize = 10)\n",
    "plt.rc('ytick', labelsize = 10)\n",
    "plt.rc('xtick', labelsize = 10)\n",
    "df_boston.hist(bins = 50, figsize = (12, 10))\n",
    "plt.show()"
   ]
  },
  {
   "cell_type": "code",
   "execution_count": 11,
   "metadata": {
    "pycharm": {
     "name": "#%%\n"
    }
   },
   "outputs": [
    {
     "data": {
      "image/png": "[encoded data removed]",
      "text/plain": [
       "<Figure size 1440x720 with 14 Axes>"
      ]
     },
     "metadata": {},
     "output_type": "display_data"
    }
   ],
   "source": [
    "fig, axs = plt.subplots(ncols= 7, nrows= 2, figsize = (20,10))\n",
    "index = 0\n",
    "axs = axs.flatten()\n",
    "for key, value in df_boston.items():\n",
    "    sns.boxplot(y = key, data = df_boston, ax=axs[index])\n",
    "    index += 1\n",
    "plt.tight_layout(pad=0.4, w_pad=0.5, h_pad=5.0)"
   ]
  },
  {
   "cell_type": "code",
   "execution_count": 12,
   "metadata": {
    "pycharm": {
     "name": "#%%\n"
    }
   },
   "outputs": [
    {
     "name": "stdout",
     "output_type": "stream",
     "text": [
      "column crime_rate outliers = 13.04%\n",
      "column land_zoned_for_lots outliers = 13.44%\n",
      "column non_retail_business outliers = 0.00%\n",
      "column charles_river outliers = 100.00%\n",
      "column nitric_oxides outliers = 0.00%\n",
      "column rooms_per_dwelling outliers = 5.93%\n",
      "column ownership_before outliers = 0.00%\n",
      "column distance_to_employment outliers = 0.99%\n",
      "column access_to_highways outliers = 0.00%\n",
      "column tax_per_10k outliers = 0.00%\n",
      "column pupil_to_teacher outliers = 2.96%\n",
      "column blacks_to_town outliers = 15.22%\n",
      "column lower_status_percent outliers = 1.38%\n",
      "column value_of_owner_occupied_homes outliers = 7.91%\n"
     ]
    }
   ],
   "source": [
    "for key, value in df_boston.items():\n",
    "    q1 = value.quantile(0.25)\n",
    "    q3 = value.quantile(0.75)\n",
    "    difference = q3 - q1\n",
    "    value_column = value[(value <= q1 - 1.5 * difference) | (value >= q3 + 1.5 * difference)]\n",
    "    shape = np.shape(value_column)[0] * 100.0 / np.shape(df_boston)[0]\n",
    "    print(\"column %s outliers = %.2f%%\" % (key,shape))"
   ]
  },
  {
   "cell_type": "code",
   "execution_count": 13,
   "metadata": {
    "pycharm": {
     "name": "#%%\n"
    }
   },
   "outputs": [],
   "source": [
    "# df_boston = df_boston[~(df_boston[\"value_of_owner_occupied_homes\"] >= 50.0)]\n",
    "# df_boston[df_boston['value_of_owner_occupied_homes'] >= 50.0].head()"
   ]
  },
  {
   "cell_type": "code",
   "execution_count": 14,
   "metadata": {
    "pycharm": {
     "name": "#%%\n"
    }
   },
   "outputs": [],
   "source": [
    "# fig, axs = plt.subplots(ncols=7, nrows=2, figsize=(20,10))\n",
    "# index = 0\n",
    "# axs = axs.flatten()\n",
    "# for key, value in df_boston.items():\n",
    "#     sns.displot(value, ax = axs[index])\n",
    "#     index += 1\n",
    "# plt.show()"
   ]
  },
  {
   "cell_type": "code",
   "execution_count": 15,
   "metadata": {
    "pycharm": {
     "name": "#%%\n"
    }
   },
   "outputs": [
    {
     "data": {
      "text/plain": [
       "value_of_owner_occupied_homes    1.000000\n",
       "rooms_per_dwelling               0.695360\n",
       "land_zoned_for_lots              0.360445\n",
       "blacks_to_town                   0.333461\n",
       "distance_to_employment           0.249929\n",
       "charles_river                    0.175260\n",
       "ownership_before                -0.376955\n",
       "access_to_highways              -0.381626\n",
       "crime_rate                      -0.388305\n",
       "nitric_oxides                   -0.427321\n",
       "tax_per_10k                     -0.468536\n",
       "non_retail_business             -0.483725\n",
       "pupil_to_teacher                -0.507787\n",
       "lower_status_percent            -0.737663\n",
       "Name: value_of_owner_occupied_homes, dtype: float64"
      ]
     },
     "execution_count": 15,
     "metadata": {},
     "output_type": "execute_result"
    }
   ],
   "source": [
    "corr_matrix = df_boston.corr()\n",
    "corr_matrix[\"value_of_owner_occupied_homes\"].sort_values(ascending = False)"
   ]
  },
  {
   "cell_type": "code",
   "execution_count": 16,
   "metadata": {
    "pycharm": {
     "name": "#%%\n"
    }
   },
   "outputs": [
    {
     "data": {
      "text/html": [
       "<div>\n",
       "<style scoped>\n",
       "    .dataframe tbody tr th:only-of-type {\n",
       "        vertical-align: middle;\n",
       "    }\n",
       "\n",
       "    .dataframe tbody tr th {\n",
       "        vertical-align: top;\n",
       "    }\n",
       "\n",
       "    .dataframe thead th {\n",
       "        text-align: right;\n",
       "    }\n",
       "</style>\n",
       "<table border=\"1\" class=\"dataframe\">\n",
       "  <thead>\n",
       "    <tr style=\"text-align: right;\">\n",
       "      <th></th>\n",
       "      <th>crime_rate</th>\n",
       "      <th>land_zoned_for_lots</th>\n",
       "      <th>non_retail_business</th>\n",
       "      <th>charles_river</th>\n",
       "      <th>nitric_oxides</th>\n",
       "      <th>rooms_per_dwelling</th>\n",
       "      <th>ownership_before</th>\n",
       "      <th>distance_to_employment</th>\n",
       "      <th>access_to_highways</th>\n",
       "      <th>tax_per_10k</th>\n",
       "      <th>pupil_to_teacher</th>\n",
       "      <th>blacks_to_town</th>\n",
       "      <th>lower_status_percent</th>\n",
       "      <th>value_of_owner_occupied_homes</th>\n",
       "    </tr>\n",
       "  </thead>\n",
       "  <tbody>\n",
       "    <tr>\n",
       "      <th>crime_rate</th>\n",
       "      <td>1.000000</td>\n",
       "      <td>-0.200469</td>\n",
       "      <td>0.406583</td>\n",
       "      <td>-0.055892</td>\n",
       "      <td>0.420972</td>\n",
       "      <td>-0.219247</td>\n",
       "      <td>0.352734</td>\n",
       "      <td>-0.379670</td>\n",
       "      <td>0.625505</td>\n",
       "      <td>0.582764</td>\n",
       "      <td>0.289946</td>\n",
       "      <td>-0.385064</td>\n",
       "      <td>0.455621</td>\n",
       "      <td>-0.388305</td>\n",
       "    </tr>\n",
       "    <tr>\n",
       "      <th>land_zoned_for_lots</th>\n",
       "      <td>-0.200469</td>\n",
       "      <td>1.000000</td>\n",
       "      <td>-0.533828</td>\n",
       "      <td>-0.042697</td>\n",
       "      <td>-0.516604</td>\n",
       "      <td>0.311991</td>\n",
       "      <td>-0.569537</td>\n",
       "      <td>0.664408</td>\n",
       "      <td>-0.311948</td>\n",
       "      <td>-0.314563</td>\n",
       "      <td>-0.391679</td>\n",
       "      <td>0.175520</td>\n",
       "      <td>-0.412995</td>\n",
       "      <td>0.360445</td>\n",
       "    </tr>\n",
       "    <tr>\n",
       "      <th>non_retail_business</th>\n",
       "      <td>0.406583</td>\n",
       "      <td>-0.533828</td>\n",
       "      <td>1.000000</td>\n",
       "      <td>0.062938</td>\n",
       "      <td>0.763651</td>\n",
       "      <td>-0.391676</td>\n",
       "      <td>0.644779</td>\n",
       "      <td>-0.708027</td>\n",
       "      <td>0.595129</td>\n",
       "      <td>0.720760</td>\n",
       "      <td>0.383248</td>\n",
       "      <td>-0.356977</td>\n",
       "      <td>0.603800</td>\n",
       "      <td>-0.483725</td>\n",
       "    </tr>\n",
       "    <tr>\n",
       "      <th>charles_river</th>\n",
       "      <td>-0.055892</td>\n",
       "      <td>-0.042697</td>\n",
       "      <td>0.062938</td>\n",
       "      <td>1.000000</td>\n",
       "      <td>0.091203</td>\n",
       "      <td>0.091251</td>\n",
       "      <td>0.086518</td>\n",
       "      <td>-0.099176</td>\n",
       "      <td>-0.007368</td>\n",
       "      <td>-0.035587</td>\n",
       "      <td>-0.121515</td>\n",
       "      <td>0.048788</td>\n",
       "      <td>-0.053929</td>\n",
       "      <td>0.175260</td>\n",
       "    </tr>\n",
       "    <tr>\n",
       "      <th>nitric_oxides</th>\n",
       "      <td>0.420972</td>\n",
       "      <td>-0.516604</td>\n",
       "      <td>0.763651</td>\n",
       "      <td>0.091203</td>\n",
       "      <td>1.000000</td>\n",
       "      <td>-0.302188</td>\n",
       "      <td>0.731470</td>\n",
       "      <td>-0.769230</td>\n",
       "      <td>0.611441</td>\n",
       "      <td>0.668023</td>\n",
       "      <td>0.188933</td>\n",
       "      <td>-0.380051</td>\n",
       "      <td>0.590879</td>\n",
       "      <td>-0.427321</td>\n",
       "    </tr>\n",
       "    <tr>\n",
       "      <th>rooms_per_dwelling</th>\n",
       "      <td>-0.219247</td>\n",
       "      <td>0.311991</td>\n",
       "      <td>-0.391676</td>\n",
       "      <td>0.091251</td>\n",
       "      <td>-0.302188</td>\n",
       "      <td>1.000000</td>\n",
       "      <td>-0.240265</td>\n",
       "      <td>0.205246</td>\n",
       "      <td>-0.209847</td>\n",
       "      <td>-0.292048</td>\n",
       "      <td>-0.355501</td>\n",
       "      <td>0.128069</td>\n",
       "      <td>-0.613808</td>\n",
       "      <td>0.695360</td>\n",
       "    </tr>\n",
       "    <tr>\n",
       "      <th>ownership_before</th>\n",
       "      <td>0.352734</td>\n",
       "      <td>-0.569537</td>\n",
       "      <td>0.644779</td>\n",
       "      <td>0.086518</td>\n",
       "      <td>0.731470</td>\n",
       "      <td>-0.240265</td>\n",
       "      <td>1.000000</td>\n",
       "      <td>-0.747881</td>\n",
       "      <td>0.456022</td>\n",
       "      <td>0.506456</td>\n",
       "      <td>0.261515</td>\n",
       "      <td>-0.273534</td>\n",
       "      <td>0.602339</td>\n",
       "      <td>-0.376955</td>\n",
       "    </tr>\n",
       "    <tr>\n",
       "      <th>distance_to_employment</th>\n",
       "      <td>-0.379670</td>\n",
       "      <td>0.664408</td>\n",
       "      <td>-0.708027</td>\n",
       "      <td>-0.099176</td>\n",
       "      <td>-0.769230</td>\n",
       "      <td>0.205246</td>\n",
       "      <td>-0.747881</td>\n",
       "      <td>1.000000</td>\n",
       "      <td>-0.494588</td>\n",
       "      <td>-0.534432</td>\n",
       "      <td>-0.232471</td>\n",
       "      <td>0.291512</td>\n",
       "      <td>-0.496996</td>\n",
       "      <td>0.249929</td>\n",
       "    </tr>\n",
       "    <tr>\n",
       "      <th>access_to_highways</th>\n",
       "      <td>0.625505</td>\n",
       "      <td>-0.311948</td>\n",
       "      <td>0.595129</td>\n",
       "      <td>-0.007368</td>\n",
       "      <td>0.611441</td>\n",
       "      <td>-0.209847</td>\n",
       "      <td>0.456022</td>\n",
       "      <td>-0.494588</td>\n",
       "      <td>1.000000</td>\n",
       "      <td>0.910228</td>\n",
       "      <td>0.464741</td>\n",
       "      <td>-0.444413</td>\n",
       "      <td>0.488676</td>\n",
       "      <td>-0.381626</td>\n",
       "    </tr>\n",
       "    <tr>\n",
       "      <th>tax_per_10k</th>\n",
       "      <td>0.582764</td>\n",
       "      <td>-0.314563</td>\n",
       "      <td>0.720760</td>\n",
       "      <td>-0.035587</td>\n",
       "      <td>0.668023</td>\n",
       "      <td>-0.292048</td>\n",
       "      <td>0.506456</td>\n",
       "      <td>-0.534432</td>\n",
       "      <td>0.910228</td>\n",
       "      <td>1.000000</td>\n",
       "      <td>0.460853</td>\n",
       "      <td>-0.441808</td>\n",
       "      <td>0.543993</td>\n",
       "      <td>-0.468536</td>\n",
       "    </tr>\n",
       "    <tr>\n",
       "      <th>pupil_to_teacher</th>\n",
       "      <td>0.289946</td>\n",
       "      <td>-0.391679</td>\n",
       "      <td>0.383248</td>\n",
       "      <td>-0.121515</td>\n",
       "      <td>0.188933</td>\n",
       "      <td>-0.355501</td>\n",
       "      <td>0.261515</td>\n",
       "      <td>-0.232471</td>\n",
       "      <td>0.464741</td>\n",
       "      <td>0.460853</td>\n",
       "      <td>1.000000</td>\n",
       "      <td>-0.177383</td>\n",
       "      <td>0.374044</td>\n",
       "      <td>-0.507787</td>\n",
       "    </tr>\n",
       "    <tr>\n",
       "      <th>blacks_to_town</th>\n",
       "      <td>-0.385064</td>\n",
       "      <td>0.175520</td>\n",
       "      <td>-0.356977</td>\n",
       "      <td>0.048788</td>\n",
       "      <td>-0.380051</td>\n",
       "      <td>0.128069</td>\n",
       "      <td>-0.273534</td>\n",
       "      <td>0.291512</td>\n",
       "      <td>-0.444413</td>\n",
       "      <td>-0.441808</td>\n",
       "      <td>-0.177383</td>\n",
       "      <td>1.000000</td>\n",
       "      <td>-0.366087</td>\n",
       "      <td>0.333461</td>\n",
       "    </tr>\n",
       "    <tr>\n",
       "      <th>lower_status_percent</th>\n",
       "      <td>0.455621</td>\n",
       "      <td>-0.412995</td>\n",
       "      <td>0.603800</td>\n",
       "      <td>-0.053929</td>\n",
       "      <td>0.590879</td>\n",
       "      <td>-0.613808</td>\n",
       "      <td>0.602339</td>\n",
       "      <td>-0.496996</td>\n",
       "      <td>0.488676</td>\n",
       "      <td>0.543993</td>\n",
       "      <td>0.374044</td>\n",
       "      <td>-0.366087</td>\n",
       "      <td>1.000000</td>\n",
       "      <td>-0.737663</td>\n",
       "    </tr>\n",
       "    <tr>\n",
       "      <th>value_of_owner_occupied_homes</th>\n",
       "      <td>-0.388305</td>\n",
       "      <td>0.360445</td>\n",
       "      <td>-0.483725</td>\n",
       "      <td>0.175260</td>\n",
       "      <td>-0.427321</td>\n",
       "      <td>0.695360</td>\n",
       "      <td>-0.376955</td>\n",
       "      <td>0.249929</td>\n",
       "      <td>-0.381626</td>\n",
       "      <td>-0.468536</td>\n",
       "      <td>-0.507787</td>\n",
       "      <td>0.333461</td>\n",
       "      <td>-0.737663</td>\n",
       "      <td>1.000000</td>\n",
       "    </tr>\n",
       "  </tbody>\n",
       "</table>\n",
       "</div>"
      ],
      "text/plain": [
       "                               crime_rate  land_zoned_for_lots  \\\n",
       "crime_rate                       1.000000            -0.200469   \n",
       "land_zoned_for_lots             -0.200469             1.000000   \n",
       "non_retail_business              0.406583            -0.533828   \n",
       "charles_river                   -0.055892            -0.042697   \n",
       "nitric_oxides                    0.420972            -0.516604   \n",
       "rooms_per_dwelling              -0.219247             0.311991   \n",
       "ownership_before                 0.352734            -0.569537   \n",
       "distance_to_employment          -0.379670             0.664408   \n",
       "access_to_highways               0.625505            -0.311948   \n",
       "tax_per_10k                      0.582764            -0.314563   \n",
       "pupil_to_teacher                 0.289946            -0.391679   \n",
       "blacks_to_town                  -0.385064             0.175520   \n",
       "lower_status_percent             0.455621            -0.412995   \n",
       "value_of_owner_occupied_homes   -0.388305             0.360445   \n",
       "\n",
       "                               non_retail_business  charles_river  \\\n",
       "crime_rate                                0.406583      -0.055892   \n",
       "land_zoned_for_lots                      -0.533828      -0.042697   \n",
       "non_retail_business                       1.000000       0.062938   \n",
       "charles_river                             0.062938       1.000000   \n",
       "nitric_oxides                             0.763651       0.091203   \n",
       "rooms_per_dwelling                       -0.391676       0.091251   \n",
       "ownership_before                          0.644779       0.086518   \n",
       "distance_to_employment                   -0.708027      -0.099176   \n",
       "access_to_highways                        0.595129      -0.007368   \n",
       "tax_per_10k                               0.720760      -0.035587   \n",
       "pupil_to_teacher                          0.383248      -0.121515   \n",
       "blacks_to_town                           -0.356977       0.048788   \n",
       "lower_status_percent                      0.603800      -0.053929   \n",
       "value_of_owner_occupied_homes            -0.483725       0.175260   \n",
       "\n",
       "                               nitric_oxides  rooms_per_dwelling  \\\n",
       "crime_rate                          0.420972           -0.219247   \n",
       "land_zoned_for_lots                -0.516604            0.311991   \n",
       "non_retail_business                 0.763651           -0.391676   \n",
       "charles_river                       0.091203            0.091251   \n",
       "nitric_oxides                       1.000000           -0.302188   \n",
       "rooms_per_dwelling                 -0.302188            1.000000   \n",
       "ownership_before                    0.731470           -0.240265   \n",
       "distance_to_employment             -0.769230            0.205246   \n",
       "access_to_highways                  0.611441           -0.209847   \n",
       "tax_per_10k                         0.668023           -0.292048   \n",
       "pupil_to_teacher                    0.188933           -0.355501   \n",
       "blacks_to_town                     -0.380051            0.128069   \n",
       "lower_status_percent                0.590879           -0.613808   \n",
       "value_of_owner_occupied_homes      -0.427321            0.695360   \n",
       "\n",
       "                               ownership_before  distance_to_employment  \\\n",
       "crime_rate                             0.352734               -0.379670   \n",
       "land_zoned_for_lots                   -0.569537                0.664408   \n",
       "non_retail_business                    0.644779               -0.708027   \n",
       "charles_river                          0.086518               -0.099176   \n",
       "nitric_oxides                          0.731470               -0.769230   \n",
       "rooms_per_dwelling                    -0.240265                0.205246   \n",
       "ownership_before                       1.000000               -0.747881   \n",
       "distance_to_employment                -0.747881                1.000000   \n",
       "access_to_highways                     0.456022               -0.494588   \n",
       "tax_per_10k                            0.506456               -0.534432   \n",
       "pupil_to_teacher                       0.261515               -0.232471   \n",
       "blacks_to_town                        -0.273534                0.291512   \n",
       "lower_status_percent                   0.602339               -0.496996   \n",
       "value_of_owner_occupied_homes         -0.376955                0.249929   \n",
       "\n",
       "                               access_to_highways  tax_per_10k  \\\n",
       "crime_rate                               0.625505     0.582764   \n",
       "land_zoned_for_lots                     -0.311948    -0.314563   \n",
       "non_retail_business                      0.595129     0.720760   \n",
       "charles_river                           -0.007368    -0.035587   \n",
       "nitric_oxides                            0.611441     0.668023   \n",
       "rooms_per_dwelling                      -0.209847    -0.292048   \n",
       "ownership_before                         0.456022     0.506456   \n",
       "distance_to_employment                  -0.494588    -0.534432   \n",
       "access_to_highways                       1.000000     0.910228   \n",
       "tax_per_10k                              0.910228     1.000000   \n",
       "pupil_to_teacher                         0.464741     0.460853   \n",
       "blacks_to_town                          -0.444413    -0.441808   \n",
       "lower_status_percent                     0.488676     0.543993   \n",
       "value_of_owner_occupied_homes           -0.381626    -0.468536   \n",
       "\n",
       "                               pupil_to_teacher  blacks_to_town  \\\n",
       "crime_rate                             0.289946       -0.385064   \n",
       "land_zoned_for_lots                   -0.391679        0.175520   \n",
       "non_retail_business                    0.383248       -0.356977   \n",
       "charles_river                         -0.121515        0.048788   \n",
       "nitric_oxides                          0.188933       -0.380051   \n",
       "rooms_per_dwelling                    -0.355501        0.128069   \n",
       "ownership_before                       0.261515       -0.273534   \n",
       "distance_to_employment                -0.232471        0.291512   \n",
       "access_to_highways                     0.464741       -0.444413   \n",
       "tax_per_10k                            0.460853       -0.441808   \n",
       "pupil_to_teacher                       1.000000       -0.177383   \n",
       "blacks_to_town                        -0.177383        1.000000   \n",
       "lower_status_percent                   0.374044       -0.366087   \n",
       "value_of_owner_occupied_homes         -0.507787        0.333461   \n",
       "\n",
       "                               lower_status_percent  \\\n",
       "crime_rate                                 0.455621   \n",
       "land_zoned_for_lots                       -0.412995   \n",
       "non_retail_business                        0.603800   \n",
       "charles_river                             -0.053929   \n",
       "nitric_oxides                              0.590879   \n",
       "rooms_per_dwelling                        -0.613808   \n",
       "ownership_before                           0.602339   \n",
       "distance_to_employment                    -0.496996   \n",
       "access_to_highways                         0.488676   \n",
       "tax_per_10k                                0.543993   \n",
       "pupil_to_teacher                           0.374044   \n",
       "blacks_to_town                            -0.366087   \n",
       "lower_status_percent                       1.000000   \n",
       "value_of_owner_occupied_homes             -0.737663   \n",
       "\n",
       "                               value_of_owner_occupied_homes  \n",
       "crime_rate                                         -0.388305  \n",
       "land_zoned_for_lots                                 0.360445  \n",
       "non_retail_business                                -0.483725  \n",
       "charles_river                                       0.175260  \n",
       "nitric_oxides                                      -0.427321  \n",
       "rooms_per_dwelling                                  0.695360  \n",
       "ownership_before                                   -0.376955  \n",
       "distance_to_employment                              0.249929  \n",
       "access_to_highways                                 -0.381626  \n",
       "tax_per_10k                                        -0.468536  \n",
       "pupil_to_teacher                                   -0.507787  \n",
       "blacks_to_town                                      0.333461  \n",
       "lower_status_percent                               -0.737663  \n",
       "value_of_owner_occupied_homes                       1.000000  "
      ]
     },
     "execution_count": 16,
     "metadata": {},
     "output_type": "execute_result"
    }
   ],
   "source": [
    "df_boston.corr()"
   ]
  },
  {
   "cell_type": "code",
   "execution_count": 17,
   "metadata": {
    "pycharm": {
     "name": "#%%\n"
    }
   },
   "outputs": [],
   "source": [
    "# df = df_boston[['crime_rate', 'land_zoned_for_lots', 'non_retail_business',\n",
    "#        'charles_river', 'nitric_oxides', 'rooms_per_dwelling',\n",
    "#        'ownership_before', 'distance_to_employment', 'access_to_highways',\n",
    "#        'tax_per_10k', 'pupil_to_teacher', 'blacks_to_town',\n",
    "#        'lower_status_percent']]\n",
    "  \n",
    "# # VIF dataframe\n",
    "# vif_data = pd.DataFrame()\n",
    "# vif_data[\"feature\"] = df.columns\n",
    "  \n",
    "# # calculating VIF for each feature\n",
    "# vif_data[\"VIF\"] = [variance_inflation_factor(df.values, i)\n",
    "#                           for i in range(len(df.columns))]\n",
    "  \n",
    "# print(vif_data)"
   ]
  },
  {
   "cell_type": "code",
   "execution_count": 18,
   "metadata": {
    "pycharm": {
     "name": "#%%\n"
    }
   },
   "outputs": [],
   "source": [
    "# # df_boston[\"crime_rate\"] = [float(str(i).replace(\",\", \"\")) for i in df_boston[\"crime_rate\"]]\n",
    "# right_skewed = df_boston['crime_rate']\n",
    "# trans = PowerTransformer(method = 'yeo-johnson', standardize= True)\n",
    "# transform = trans.fit_transform(right_skewed)"
   ]
  },
  {
   "cell_type": "code",
   "execution_count": 19,
   "metadata": {
    "pycharm": {
     "name": "#%%\n"
    }
   },
   "outputs": [],
   "source": [
    "strat_train_set, strat_test_set = train_test_split(df_boston, test_size = 0.2, random_state=42)"
   ]
  },
  {
   "cell_type": "code",
   "execution_count": 20,
   "metadata": {
    "pycharm": {
     "name": "#%%\n"
    }
   },
   "outputs": [],
   "source": [
    "df_features = strat_train_set.copy()"
   ]
  },
  {
   "cell_type": "code",
   "execution_count": 21,
   "metadata": {
    "pycharm": {
     "name": "#%%\n"
    }
   },
   "outputs": [],
   "source": [
    "features = df_features.drop(\"value_of_owner_occupied_homes\", axis = 1)\n",
    "price = df_features[\"value_of_owner_occupied_homes\"]"
   ]
  },
  {
   "cell_type": "code",
   "execution_count": 22,
   "metadata": {
    "pycharm": {
     "name": "#%%\n"
    }
   },
   "outputs": [],
   "source": [
    "# right_skewed = df_boston [['crime_rate', 'non_retail_business', 'nitric_oxides', 'distance_to_employment', \"lower_status_percent\", \"tax_per_10k\", \"value_of_owner_occupied_homes\",\n",
    "#                            'blacks_to_town', 'ownership_before', 'pupil_to_teacher', 'land_zoned_for_lots', 'rooms_per_dwelling', 'charles_river', 'access_to_highways']]\n",
    "\n",
    "# right_data = right_skewed.iloc[:, 0:6]\n",
    "# left_data = right_skewed.iloc[:, 7:9]\n",
    "\n",
    "# pt = PowerTransformer(method = \"yeo-johnson\")\n",
    "# pt_left = FunctionTransformer(np.cbrt)\n",
    "\n",
    "# data = pt.fit_transform(right_data)\n",
    "# data_left = pt_left.fit_transform(left_data)\n",
    "\n",
    "# df_boston = DataFrame(data)\n",
    "# df_boston = DataFrame(data_left)\n",
    "\n",
    "\n",
    "# df_boston.hist()\n",
    "# plt.show()"
   ]
  },
  {
   "cell_type": "code",
   "execution_count": 23,
   "metadata": {
    "pycharm": {
     "name": "#%%\n"
    }
   },
   "outputs": [],
   "source": [
    "# fig, axs = plt.subplots(ncols= 7, nrows= 2, figsize = (20,10))\n",
    "# index = 0\n",
    "# axs = axs.flatten()\n",
    "# for key, value in df_boston.items():\n",
    "#     sns.boxplot(y = key, data = df_boston, ax=axs[index])\n",
    "#     index += 1\n",
    "# plt.tight_layout(pad=0.4, w_pad=0.5, h_pad=5.0)"
   ]
  },
  {
   "cell_type": "code",
   "execution_count": 24,
   "metadata": {
    "pycharm": {
     "name": "#%%\n"
    }
   },
   "outputs": [],
   "source": [
    "# for key, value in df_boston.items():\n",
    "#     q1 = value.quantile(0.25)\n",
    "#     q3 = value.quantile(0.75)\n",
    "#     difference = q3 - q1\n",
    "#     value_column = value[(value <= q1 - 1.5 * difference) | (value >= q3 + 1.5 * difference)]\n",
    "#     shape = np.shape(value_column)[0] * 100.0 / np.shape(df_boston)[0]\n",
    "#     print(\"column %s outliers = %.2f%%\" % (key,shape))"
   ]
  },
  {
   "cell_type": "code",
   "execution_count": 25,
   "metadata": {
    "pycharm": {
     "name": "#%%\n"
    }
   },
   "outputs": [],
   "source": [
    "#   # VIF dataframe\n",
    "# vif_data = pd.DataFrame()\n",
    "# vif_data[\"feature\"] = df_boston.columns\n",
    "  \n",
    "# # calculating VIF for each feature\n",
    "# vif_data[\"VIF\"] = [variance_inflation_factor(df_boston.values, i)\n",
    "#                           for i in range(len(df_boston.columns))]\n",
    "  \n",
    "# print(vif_data)"
   ]
  },
  {
   "cell_type": "code",
   "execution_count": 26,
   "metadata": {
    "pycharm": {
     "name": "#%%\n"
    }
   },
   "outputs": [
    {
     "data": {
      "text/plain": [
       "Index(['crime_rate', 'land_zoned_for_lots', 'non_retail_business',\n",
       "       'charles_river', 'nitric_oxides', 'rooms_per_dwelling',\n",
       "       'ownership_before', 'distance_to_employment', 'access_to_highways',\n",
       "       'tax_per_10k', 'pupil_to_teacher', 'blacks_to_town',\n",
       "       'lower_status_percent', 'value_of_owner_occupied_homes'],\n",
       "      dtype='object')"
      ]
     },
     "execution_count": 26,
     "metadata": {},
     "output_type": "execute_result"
    }
   ],
   "source": [
    "df_boston.columns"
   ]
  },
  {
   "cell_type": "code",
   "execution_count": 27,
   "metadata": {
    "pycharm": {
     "name": "#%%\n"
    }
   },
   "outputs": [],
   "source": [
    "num_attribute = ['crime_rate', 'land_zoned_for_lots', 'non_retail_business',\n",
    "       'charles_river', 'nitric_oxides', 'rooms_per_dwelling',\n",
    "       'ownership_before', 'distance_to_employment', 'access_to_highways',\n",
    "       'tax_per_10k', 'pupil_to_teacher', 'blacks_to_town',\n",
    "       'lower_status_percent', 'value_of_owner_occupied_homes']"
   ]
  },
  {
   "cell_type": "code",
   "execution_count": 28,
   "metadata": {
    "pycharm": {
     "name": "#%%\n"
    }
   },
   "outputs": [],
   "source": [
    "right_skew_pipeline = make_pipeline(\n",
    "    PowerTransformer(method = \"yeo-johnson\"),\n",
    "    StandardScaler()\n",
    ")\n",
    "\n",
    "left_skew_pipeline = make_pipeline(\n",
    "    FunctionTransformer(np.log),\n",
    "    StandardScaler()\n",
    ")\n",
    "\n",
    "remaining_num_pipeline = make_pipeline(\n",
    "    StandardScaler())"
   ]
  },
  {
   "cell_type": "code",
   "execution_count": 29,
   "metadata": {
    "pycharm": {
     "name": "#%%\n"
    }
   },
   "outputs": [
    {
     "name": "stdout",
     "output_type": "stream",
     "text": [
      "<class 'pandas.core.frame.DataFrame'>\n",
      "RangeIndex: 506 entries, 0 to 505\n",
      "Data columns (total 14 columns):\n",
      " #   Column                         Non-Null Count  Dtype  \n",
      "---  ------                         --------------  -----  \n",
      " 0   crime_rate                     506 non-null    float64\n",
      " 1   land_zoned_for_lots            506 non-null    float64\n",
      " 2   non_retail_business            506 non-null    float64\n",
      " 3   charles_river                  506 non-null    int64  \n",
      " 4   nitric_oxides                  506 non-null    float64\n",
      " 5   rooms_per_dwelling             506 non-null    float64\n",
      " 6   ownership_before               506 non-null    float64\n",
      " 7   distance_to_employment         506 non-null    float64\n",
      " 8   access_to_highways             506 non-null    int64  \n",
      " 9   tax_per_10k                    506 non-null    float64\n",
      " 10  pupil_to_teacher               506 non-null    float64\n",
      " 11  blacks_to_town                 506 non-null    float64\n",
      " 12  lower_status_percent           506 non-null    float64\n",
      " 13  value_of_owner_occupied_homes  506 non-null    float64\n",
      "dtypes: float64(12), int64(2)\n",
      "memory usage: 55.5 KB\n"
     ]
    }
   ],
   "source": [
    "df_boston.info()"
   ]
  },
  {
   "cell_type": "code",
   "execution_count": 30,
   "metadata": {
    "pycharm": {
     "name": "#%%\n"
    }
   },
   "outputs": [],
   "source": [
    "num_pipeline = ColumnTransformer([\n",
    "    (\"right_skew\", right_skew_pipeline, ['crime_rate', 'charles_river', 'distance_to_employment', 'lower_status_percent', 'land_zoned_for_lots', 'rooms_per_dwelling']),\n",
    "    (\"left_skew\", left_skew_pipeline, ['blacks_to_town', 'pupil_to_teacher']),\n",
    "    (\"remaining\", remaining_num_pipeline, ['non_retail_business', 'nitric_oxides', 'access_to_highways', 'tax_per_10k', 'ownership_before'])\n",
    "])"
   ]
  },
  {
   "cell_type": "code",
   "execution_count": 31,
   "metadata": {
    "pycharm": {
     "name": "#%%\n"
    }
   },
   "outputs": [],
   "source": [
    "full_processing = ColumnTransformer(transformers=[\n",
    "    ('num', num_pipeline, num_attribute)\n",
    "])\n",
    "\n",
    "preprocessing = make_column_transformer(\n",
    "    (num_pipeline, make_column_selector(dtype_include = np.number))\n",
    ")"
   ]
  },
  {
   "cell_type": "code",
   "execution_count": 32,
   "metadata": {
    "pycharm": {
     "name": "#%%\n"
    }
   },
   "outputs": [
    {
     "data": {
      "text/plain": [
       "(404, 13)"
      ]
     },
     "execution_count": 32,
     "metadata": {},
     "output_type": "execute_result"
    }
   ],
   "source": [
    "processed_features = preprocessing.fit_transform(features)\n",
    "processed_features.shape"
   ]
  },
  {
   "cell_type": "markdown",
   "metadata": {
    "pycharm": {
     "name": "#%% md\n"
    }
   },
   "source": [
    "Linear_regression"
   ]
  },
  {
   "cell_type": "code",
   "execution_count": 33,
   "metadata": {
    "pycharm": {
     "name": "#%%\n"
    }
   },
   "outputs": [
    {
     "data": {
      "text/plain": [
       "count    10.000000\n",
       "mean      4.489695\n",
       "std       0.700080\n",
       "min       3.701478\n",
       "25%       4.059857\n",
       "50%       4.330164\n",
       "75%       4.764844\n",
       "max       5.762123\n",
       "dtype: float64"
      ]
     },
     "execution_count": 33,
     "metadata": {},
     "output_type": "execute_result"
    }
   ],
   "source": [
    "linear_regression = Pipeline([\n",
    "    ('preprocessing', preprocessing),\n",
    "    # ('selector', SelectFromModel(RandomForestRegressor(random_state = 42), threshold=0.005)),\n",
    "    ('linear', LinearRegression()),\n",
    "])\n",
    "\n",
    "linear_regression.fit(features, price)\n",
    "linear_rmse = -cross_val_score(linear_regression, features, price, scoring = \"neg_root_mean_squared_error\", cv = 10)\n",
    "pd.Series(linear_rmse).describe()"
   ]
  },
  {
   "cell_type": "code",
   "execution_count": 34,
   "metadata": {
    "pycharm": {
     "name": "#%%\n"
    }
   },
   "outputs": [
    {
     "data": {
      "text/plain": [
       "4.3050474763377755"
      ]
     },
     "execution_count": 34,
     "metadata": {},
     "output_type": "execute_result"
    }
   ],
   "source": [
    "linear_predict = linear_regression.predict(features)\n",
    "linear_mean_square = mean_squared_error(price, linear_predict, squared = False)\n",
    "\n",
    "linear_mean_square"
   ]
  },
  {
   "cell_type": "markdown",
   "metadata": {
    "pycharm": {
     "name": "#%% md\n"
    }
   },
   "source": [
    "Ridge"
   ]
  },
  {
   "cell_type": "code",
   "execution_count": 35,
   "metadata": {
    "pycharm": {
     "name": "#%%\n"
    }
   },
   "outputs": [
    {
     "data": {
      "text/plain": [
       "count    10.000000\n",
       "mean      4.488537\n",
       "std       0.701510\n",
       "min       3.684941\n",
       "25%       4.057847\n",
       "50%       4.320530\n",
       "75%       4.766441\n",
       "max       5.757799\n",
       "dtype: float64"
      ]
     },
     "execution_count": 35,
     "metadata": {},
     "output_type": "execute_result"
    }
   ],
   "source": [
    "ridge = Pipeline([\n",
    "    (\"preprocessing\", preprocessing),\n",
    "    # (\"selector\", SelectFromModel(RandomForestRegressor(random_state= 42), threshold = 0.005)),\n",
    "     (\"ridge\", Ridge(alpha = 1, solver = \"cholesky\"))\n",
    "])\n",
    "\n",
    "ridge.fit(features, price)\n",
    "\n",
    "ridge_rmse = -cross_val_score(ridge, features, price, scoring = \"neg_root_mean_squared_error\", cv = 10)\n",
    "pd.Series(ridge_rmse).describe()"
   ]
  },
  {
   "cell_type": "code",
   "execution_count": 36,
   "metadata": {
    "pycharm": {
     "name": "#%%\n"
    }
   },
   "outputs": [
    {
     "data": {
      "text/plain": [
       "4.305231942765287"
      ]
     },
     "execution_count": 36,
     "metadata": {},
     "output_type": "execute_result"
    }
   ],
   "source": [
    "ridge_predict = ridge.predict(features)\n",
    "ridge_mean_square = mean_squared_error(price, ridge_predict, squared= False)\n",
    "\n",
    "ridge_mean_square"
   ]
  },
  {
   "cell_type": "markdown",
   "metadata": {
    "pycharm": {
     "name": "#%% md\n"
    }
   },
   "source": [
    "Lasso"
   ]
  },
  {
   "cell_type": "code",
   "execution_count": 37,
   "metadata": {
    "pycharm": {
     "name": "#%%\n"
    }
   },
   "outputs": [
    {
     "data": {
      "text/plain": [
       "count    10.000000\n",
       "mean      4.488537\n",
       "std       0.701510\n",
       "min       3.684941\n",
       "25%       4.057847\n",
       "50%       4.320530\n",
       "75%       4.766441\n",
       "max       5.757799\n",
       "dtype: float64"
      ]
     },
     "execution_count": 37,
     "metadata": {},
     "output_type": "execute_result"
    }
   ],
   "source": [
    "lasso = Pipeline([\n",
    "    (\"preprocess\", preprocessing),\n",
    "    (\"lasso\", Lasso(alpha = 0.5, max_iter = 100, tol = 1e-3))\n",
    "])\n",
    "lasso.fit(features, price)\n",
    "\n",
    "lasso_rmse = -cross_val_score(ridge, features, price, scoring = \"neg_root_mean_squared_error\", cv = 10)\n",
    "pd.Series(lasso_rmse).describe()"
   ]
  },
  {
   "cell_type": "code",
   "execution_count": 38,
   "metadata": {
    "pycharm": {
     "name": "#%%\n"
    }
   },
   "outputs": [
    {
     "data": {
      "text/plain": [
       "4.717360046465483"
      ]
     },
     "execution_count": 38,
     "metadata": {},
     "output_type": "execute_result"
    }
   ],
   "source": [
    "lasso_predict = lasso.predict(features)\n",
    "lasso_mean_square = mean_squared_error(lasso_predict, price, squared = False)\n",
    "lasso_mean_square"
   ]
  },
  {
   "cell_type": "markdown",
   "metadata": {
    "pycharm": {
     "name": "#%% md\n"
    }
   },
   "source": [
    "ElasticNet"
   ]
  },
  {
   "cell_type": "code",
   "execution_count": 39,
   "metadata": {
    "pycharm": {
     "name": "#%%\n"
    }
   },
   "outputs": [
    {
     "data": {
      "text/plain": [
       "count    10.000000\n",
       "mean      4.597654\n",
       "std       0.745353\n",
       "min       3.554421\n",
       "25%       4.157267\n",
       "50%       4.336443\n",
       "75%       5.055950\n",
       "max       5.964474\n",
       "dtype: float64"
      ]
     },
     "execution_count": 39,
     "metadata": {},
     "output_type": "execute_result"
    }
   ],
   "source": [
    "elastic_net = Pipeline([\n",
    "    (\"preprocess\", preprocessing),\n",
    "    (\"selector\", SelectFromModel(RandomForestRegressor(random_state= 42), threshold= 0.005)),\n",
    "    (\"elastic\", ElasticNet(alpha= 0.1, l1_ratio= 0.5))\n",
    "])\n",
    "elastic_net.fit(features, price)\n",
    "\n",
    "\n",
    "elastic_rmse = -cross_val_score(elastic_net, features, price, scoring = \"neg_root_mean_squared_error\", cv = 10)\n",
    "pd.Series(elastic_rmse).describe()"
   ]
  },
  {
   "cell_type": "code",
   "execution_count": 40,
   "metadata": {
    "pycharm": {
     "name": "#%%\n"
    }
   },
   "outputs": [
    {
     "data": {
      "text/plain": [
       "4.4584981211989"
      ]
     },
     "execution_count": 40,
     "metadata": {},
     "output_type": "execute_result"
    }
   ],
   "source": [
    "elastic_net_predict = elastic_net.predict(features)\n",
    "elastic_mean_error = mean_squared_error(elastic_net_predict, price, squared = False)\n",
    "\n",
    "elastic_mean_error"
   ]
  },
  {
   "cell_type": "markdown",
   "metadata": {
    "pycharm": {
     "name": "#%% md\n"
    }
   },
   "source": [
    "XGBoost"
   ]
  },
  {
   "cell_type": "code",
   "execution_count": 62,
   "metadata": {
    "pycharm": {
     "name": "#%%\n"
    }
   },
   "outputs": [
    {
     "data": {
      "text/plain": [
       "count    10.000000\n",
       "mean      3.604782\n",
       "std       0.980636\n",
       "min       2.453027\n",
       "25%       3.091981\n",
       "50%       3.268176\n",
       "75%       4.120153\n",
       "max       5.648760\n",
       "dtype: float64"
      ]
     },
     "execution_count": 62,
     "metadata": {},
     "output_type": "execute_result"
    }
   ],
   "source": [
    "xgb = Pipeline([\n",
    "    (\"preprocess\", preprocessing),\n",
    "    (\"selector\", SelectFromModel(RandomForestRegressor(random_state = 42), threshold= 0.005)),\n",
    "    (\"xgboost\", XGBRegressor())\n",
    "])\n",
    "\n",
    "xgb.fit(features, price)\n",
    "\n",
    "xgb_rmse = -cross_val_score(xgb, features, price, scoring = \"neg_root_mean_squared_error\", cv = 10)\n",
    "pd.Series(xgb_rmse).describe()"
   ]
  },
  {
   "cell_type": "code",
   "execution_count": 63,
   "metadata": {
    "pycharm": {
     "name": "#%%\n"
    }
   },
   "outputs": [
    {
     "data": {
      "text/plain": [
       "0.02338719404968569"
      ]
     },
     "execution_count": 63,
     "metadata": {},
     "output_type": "execute_result"
    }
   ],
   "source": [
    "xgb_predict = xgb.predict(features)\n",
    "\n",
    "xgb_mean_squared = mean_squared_error(price, xgb_predict, squared= False)\n",
    "xgb_mean_squared"
   ]
  },
  {
   "cell_type": "markdown",
   "metadata": {
    "pycharm": {
     "name": "#%% md\n"
    }
   },
   "source": [
    "The training error is so much lower than the validation error which means that the model has overfit the traaining data."
   ]
  },
  {
   "cell_type": "markdown",
   "metadata": {
    "pycharm": {
     "name": "#%% md\n"
    }
   },
   "source": [
    "SVR"
   ]
  },
  {
   "cell_type": "code",
   "execution_count": 43,
   "metadata": {
    "pycharm": {
     "name": "#%%\n"
    }
   },
   "outputs": [
    {
     "data": {
      "text/plain": [
       "count    10.000000\n",
       "mean      5.059805\n",
       "std       0.886589\n",
       "min       3.831663\n",
       "25%       4.457718\n",
       "50%       4.970413\n",
       "75%       5.660058\n",
       "max       6.455935\n",
       "dtype: float64"
      ]
     },
     "execution_count": 43,
     "metadata": {},
     "output_type": "execute_result"
    }
   ],
   "source": [
    "svr = Pipeline([\n",
    "    (\"preprocess\", preprocessing),\n",
    "    (\"selector\", SelectFromModel(RandomForestRegressor(random_state = 42), threshold= 0.005)),\n",
    "    (\"svr\", SVR()) \n",
    "])\n",
    "\n",
    "\n",
    "svr.fit(features, price)\n",
    "\n",
    "svr_rmse = -cross_val_score(svr, features, price, scoring = \"neg_root_mean_squared_error\", cv = 10)\n",
    "pd.Series(svr_rmse).describe()"
   ]
  },
  {
   "cell_type": "code",
   "execution_count": 44,
   "metadata": {
    "pycharm": {
     "name": "#%%\n"
    }
   },
   "outputs": [
    {
     "data": {
      "text/plain": [
       "4.819488109459833"
      ]
     },
     "execution_count": 44,
     "metadata": {},
     "output_type": "execute_result"
    }
   ],
   "source": [
    "svr_predict = svr.predict(features)\n",
    "\n",
    "svr_mean_squared = mean_squared_error(price, svr_predict, squared= False)\n",
    "svr_mean_squared"
   ]
  },
  {
   "cell_type": "markdown",
   "metadata": {
    "pycharm": {
     "name": "#%% md\n"
    }
   },
   "source": [
    "RandomForest"
   ]
  },
  {
   "cell_type": "code",
   "execution_count": 45,
   "metadata": {
    "pycharm": {
     "name": "#%%\n"
    }
   },
   "outputs": [
    {
     "data": {
      "text/plain": [
       "count    10.000000\n",
       "mean      3.610312\n",
       "std       1.003613\n",
       "min       2.525395\n",
       "25%       2.815706\n",
       "50%       3.335653\n",
       "75%       4.403459\n",
       "max       5.314114\n",
       "dtype: float64"
      ]
     },
     "execution_count": 45,
     "metadata": {},
     "output_type": "execute_result"
    }
   ],
   "source": [
    "random = Pipeline([\n",
    "    (\"preprocess\", preprocessing),\n",
    "    (\"selector\", SelectFromModel(RandomForestRegressor(random_state = 42), threshold= 0.005)),\n",
    "    (\"rand\", RandomForestRegressor()) \n",
    "])\n",
    "\n",
    "\n",
    "random.fit(features, price)\n",
    "\n",
    "random_rmse = -cross_val_score(random, features, price, scoring = \"neg_root_mean_squared_error\", cv = 10)\n",
    "pd.Series(random_rmse).describe()"
   ]
  },
  {
   "cell_type": "code",
   "execution_count": 46,
   "metadata": {
    "pycharm": {
     "name": "#%%\n"
    }
   },
   "outputs": [
    {
     "data": {
      "text/plain": [
       "1.3532064945276023"
      ]
     },
     "execution_count": 46,
     "metadata": {},
     "output_type": "execute_result"
    }
   ],
   "source": [
    "random_predict = random.predict(features)\n",
    "\n",
    "random_mean_squared = mean_squared_error(price, random_predict, squared= False)\n",
    "random_mean_squared"
   ]
  },
  {
   "cell_type": "markdown",
   "metadata": {
    "pycharm": {
     "name": "#%% md\n"
    }
   },
   "source": [
    "grid search random forest"
   ]
  },
  {
   "cell_type": "code",
   "execution_count": 47,
   "metadata": {
    "pycharm": {
     "name": "#%%\n"
    }
   },
   "outputs": [
    {
     "data": {
      "text/html": [
       "<style>#sk-container-id-1 {color: black;}#sk-container-id-1 pre{padding: 0;}#sk-container-id-1 div.sk-toggleable {background-color: white;}#sk-container-id-1 label.sk-toggleable__label {cursor: pointer;display: block;width: 100%;margin-bottom: 0;padding: 0.3em;box-sizing: border-box;text-align: center;}#sk-container-id-1 label.sk-toggleable__label-arrow:before {content: \"▸\";float: left;margin-right: 0.25em;color: #696969;}#sk-container-id-1 label.sk-toggleable__label-arrow:hover:before {color: black;}#sk-container-id-1 div.sk-estimator:hover label.sk-toggleable__label-arrow:before {color: black;}#sk-container-id-1 div.sk-toggleable__content {max-height: 0;max-width: 0;overflow: hidden;text-align: left;background-color: #f0f8ff;}#sk-container-id-1 div.sk-toggleable__content pre {margin: 0.2em;color: black;border-radius: 0.25em;background-color: #f0f8ff;}#sk-container-id-1 input.sk-toggleable__control:checked~div.sk-toggleable__content {max-height: 200px;max-width: 100%;overflow: auto;}#sk-container-id-1 input.sk-toggleable__control:checked~label.sk-toggleable__label-arrow:before {content: \"▾\";}#sk-container-id-1 div.sk-estimator input.sk-toggleable__control:checked~label.sk-toggleable__label {background-color: #d4ebff;}#sk-container-id-1 div.sk-label input.sk-toggleable__control:checked~label.sk-toggleable__label {background-color: #d4ebff;}#sk-container-id-1 input.sk-hidden--visually {border: 0;clip: rect(1px 1px 1px 1px);clip: rect(1px, 1px, 1px, 1px);height: 1px;margin: -1px;overflow: hidden;padding: 0;position: absolute;width: 1px;}#sk-container-id-1 div.sk-estimator {font-family: monospace;background-color: #f0f8ff;border: 1px dotted black;border-radius: 0.25em;box-sizing: border-box;margin-bottom: 0.5em;}#sk-container-id-1 div.sk-estimator:hover {background-color: #d4ebff;}#sk-container-id-1 div.sk-parallel-item::after {content: \"\";width: 100%;border-bottom: 1px solid gray;flex-grow: 1;}#sk-container-id-1 div.sk-label:hover label.sk-toggleable__label {background-color: #d4ebff;}#sk-container-id-1 div.sk-serial::before {content: \"\";position: absolute;border-left: 1px solid gray;box-sizing: border-box;top: 0;bottom: 0;left: 50%;z-index: 0;}#sk-container-id-1 div.sk-serial {display: flex;flex-direction: column;align-items: center;background-color: white;padding-right: 0.2em;padding-left: 0.2em;position: relative;}#sk-container-id-1 div.sk-item {position: relative;z-index: 1;}#sk-container-id-1 div.sk-parallel {display: flex;align-items: stretch;justify-content: center;background-color: white;position: relative;}#sk-container-id-1 div.sk-item::before, #sk-container-id-1 div.sk-parallel-item::before {content: \"\";position: absolute;border-left: 1px solid gray;box-sizing: border-box;top: 0;bottom: 0;left: 50%;z-index: -1;}#sk-container-id-1 div.sk-parallel-item {display: flex;flex-direction: column;z-index: 1;position: relative;background-color: white;}#sk-container-id-1 div.sk-parallel-item:first-child::after {align-self: flex-end;width: 50%;}#sk-container-id-1 div.sk-parallel-item:last-child::after {align-self: flex-start;width: 50%;}#sk-container-id-1 div.sk-parallel-item:only-child::after {width: 0;}#sk-container-id-1 div.sk-dashed-wrapped {border: 1px dashed gray;margin: 0 0.4em 0.5em 0.4em;box-sizing: border-box;padding-bottom: 0.4em;background-color: white;}#sk-container-id-1 div.sk-label label {font-family: monospace;font-weight: bold;display: inline-block;line-height: 1.2em;}#sk-container-id-1 div.sk-label-container {text-align: center;}#sk-container-id-1 div.sk-container {/* jupyter's `normalize.less` sets `[hidden] { display: none; }` but bootstrap.min.css set `[hidden] { display: none !important; }` so we also need the `!important` here to be able to override the default hidden behavior on the sphinx rendered scikit-learn.org. See: https://github.com/scikit-learn/scikit-learn/issues/21755 */display: inline-block !important;position: relative;}#sk-container-id-1 div.sk-text-repr-fallback {display: none;}</style><div id=\"sk-container-id-1\" class=\"sk-top-container\"><div class=\"sk-text-repr-fallback\"><pre>GridSearchCV(cv=3,\n",
       "             estimator=Pipeline(steps=[(&#x27;preprocessing&#x27;,\n",
       "                                        ColumnTransformer(transformers=[(&#x27;columntransformer&#x27;,\n",
       "                                                                         ColumnTransformer(transformers=[(&#x27;right_skew&#x27;,\n",
       "                                                                                                          Pipeline(steps=[(&#x27;powertransformer&#x27;,\n",
       "                                                                                                                           PowerTransformer()),\n",
       "                                                                                                                          (&#x27;standardscaler&#x27;,\n",
       "                                                                                                                           StandardScaler())]),\n",
       "                                                                                                          [&#x27;crime_rate&#x27;,\n",
       "                                                                                                           &#x27;charles_river&#x27;,\n",
       "                                                                                                           &#x27;distance_to_employment&#x27;,\n",
       "                                                                                                           &#x27;lower_status_percent&#x27;,\n",
       "                                                                                                           &#x27;land_zoned_for_lo...\n",
       "                                        SelectFromModel(estimator=RandomForestRegressor(random_state=42),\n",
       "                                                        threshold=0.005)),\n",
       "                                       (&#x27;random_forest&#x27;,\n",
       "                                        RandomForestRegressor(random_state=42))]),\n",
       "             n_jobs=-1,\n",
       "             param_grid={&#x27;random_forest__max_features&#x27;: [4, 6, 8],\n",
       "                         &#x27;random_forest__min_samples_leaf&#x27;: [1, 3, 5, 10],\n",
       "                         &#x27;random_forest__min_samples_split&#x27;: [2, 4, 6, 8],\n",
       "                         &#x27;random_forest__n_estimators&#x27;: [10, 50]},\n",
       "             scoring=&#x27;neg_root_mean_squared_error&#x27;)</pre><b>In a Jupyter environment, please rerun this cell to show the HTML representation or trust the notebook. <br />On GitHub, the HTML representation is unable to render, please try loading this page with nbviewer.org.</b></div><div class=\"sk-container\" hidden><div class=\"sk-item sk-dashed-wrapped\"><div class=\"sk-label-container\"><div class=\"sk-label sk-toggleable\"><input class=\"sk-toggleable__control sk-hidden--visually\" id=\"sk-estimator-id-1\" type=\"checkbox\" ><label for=\"sk-estimator-id-1\" class=\"sk-toggleable__label sk-toggleable__label-arrow\">GridSearchCV</label><div class=\"sk-toggleable__content\"><pre>GridSearchCV(cv=3,\n",
       "             estimator=Pipeline(steps=[(&#x27;preprocessing&#x27;,\n",
       "                                        ColumnTransformer(transformers=[(&#x27;columntransformer&#x27;,\n",
       "                                                                         ColumnTransformer(transformers=[(&#x27;right_skew&#x27;,\n",
       "                                                                                                          Pipeline(steps=[(&#x27;powertransformer&#x27;,\n",
       "                                                                                                                           PowerTransformer()),\n",
       "                                                                                                                          (&#x27;standardscaler&#x27;,\n",
       "                                                                                                                           StandardScaler())]),\n",
       "                                                                                                          [&#x27;crime_rate&#x27;,\n",
       "                                                                                                           &#x27;charles_river&#x27;,\n",
       "                                                                                                           &#x27;distance_to_employment&#x27;,\n",
       "                                                                                                           &#x27;lower_status_percent&#x27;,\n",
       "                                                                                                           &#x27;land_zoned_for_lo...\n",
       "                                        SelectFromModel(estimator=RandomForestRegressor(random_state=42),\n",
       "                                                        threshold=0.005)),\n",
       "                                       (&#x27;random_forest&#x27;,\n",
       "                                        RandomForestRegressor(random_state=42))]),\n",
       "             n_jobs=-1,\n",
       "             param_grid={&#x27;random_forest__max_features&#x27;: [4, 6, 8],\n",
       "                         &#x27;random_forest__min_samples_leaf&#x27;: [1, 3, 5, 10],\n",
       "                         &#x27;random_forest__min_samples_split&#x27;: [2, 4, 6, 8],\n",
       "                         &#x27;random_forest__n_estimators&#x27;: [10, 50]},\n",
       "             scoring=&#x27;neg_root_mean_squared_error&#x27;)</pre></div></div></div><div class=\"sk-parallel\"><div class=\"sk-parallel-item\"><div class=\"sk-item\"><div class=\"sk-label-container\"><div class=\"sk-label sk-toggleable\"><input class=\"sk-toggleable__control sk-hidden--visually\" id=\"sk-estimator-id-2\" type=\"checkbox\" ><label for=\"sk-estimator-id-2\" class=\"sk-toggleable__label sk-toggleable__label-arrow\">estimator: Pipeline</label><div class=\"sk-toggleable__content\"><pre>Pipeline(steps=[(&#x27;preprocessing&#x27;,\n",
       "                 ColumnTransformer(transformers=[(&#x27;columntransformer&#x27;,\n",
       "                                                  ColumnTransformer(transformers=[(&#x27;right_skew&#x27;,\n",
       "                                                                                   Pipeline(steps=[(&#x27;powertransformer&#x27;,\n",
       "                                                                                                    PowerTransformer()),\n",
       "                                                                                                   (&#x27;standardscaler&#x27;,\n",
       "                                                                                                    StandardScaler())]),\n",
       "                                                                                   [&#x27;crime_rate&#x27;,\n",
       "                                                                                    &#x27;charles_river&#x27;,\n",
       "                                                                                    &#x27;distance_to_employment&#x27;,\n",
       "                                                                                    &#x27;lower_status_percent&#x27;,\n",
       "                                                                                    &#x27;land_zoned_for_lots&#x27;,\n",
       "                                                                                    &#x27;rooms_per_dwelling&#x27;]),\n",
       "                                                                                  (...\n",
       "                                                                                                    StandardScaler())]),\n",
       "                                                                                   [&#x27;non_retail_business&#x27;,\n",
       "                                                                                    &#x27;nitric_oxides&#x27;,\n",
       "                                                                                    &#x27;access_to_highways&#x27;,\n",
       "                                                                                    &#x27;tax_per_10k&#x27;,\n",
       "                                                                                    &#x27;ownership_before&#x27;])]),\n",
       "                                                  &lt;sklearn.compose._column_transformer.make_column_selector object at 0x0000021FDC39CB20&gt;)])),\n",
       "                (&#x27;selector&#x27;,\n",
       "                 SelectFromModel(estimator=RandomForestRegressor(random_state=42),\n",
       "                                 threshold=0.005)),\n",
       "                (&#x27;random_forest&#x27;, RandomForestRegressor(random_state=42))])</pre></div></div></div><div class=\"sk-serial\"><div class=\"sk-item\"><div class=\"sk-serial\"><div class=\"sk-item sk-dashed-wrapped\"><div class=\"sk-label-container\"><div class=\"sk-label sk-toggleable\"><input class=\"sk-toggleable__control sk-hidden--visually\" id=\"sk-estimator-id-3\" type=\"checkbox\" ><label for=\"sk-estimator-id-3\" class=\"sk-toggleable__label sk-toggleable__label-arrow\">preprocessing: ColumnTransformer</label><div class=\"sk-toggleable__content\"><pre>ColumnTransformer(transformers=[(&#x27;columntransformer&#x27;,\n",
       "                                 ColumnTransformer(transformers=[(&#x27;right_skew&#x27;,\n",
       "                                                                  Pipeline(steps=[(&#x27;powertransformer&#x27;,\n",
       "                                                                                   PowerTransformer()),\n",
       "                                                                                  (&#x27;standardscaler&#x27;,\n",
       "                                                                                   StandardScaler())]),\n",
       "                                                                  [&#x27;crime_rate&#x27;,\n",
       "                                                                   &#x27;charles_river&#x27;,\n",
       "                                                                   &#x27;distance_to_employment&#x27;,\n",
       "                                                                   &#x27;lower_status_percent&#x27;,\n",
       "                                                                   &#x27;land_zoned_for_lots&#x27;,\n",
       "                                                                   &#x27;rooms_per_dwelling&#x27;]),\n",
       "                                                                 (&#x27;left_skew&#x27;,\n",
       "                                                                  Pipeline(steps=[(&#x27;fun...\n",
       "                                                                                   FunctionTransformer(func=&lt;ufunc &#x27;log&#x27;&gt;)),\n",
       "                                                                                  (&#x27;standardscaler&#x27;,\n",
       "                                                                                   StandardScaler())]),\n",
       "                                                                  [&#x27;blacks_to_town&#x27;,\n",
       "                                                                   &#x27;pupil_to_teacher&#x27;]),\n",
       "                                                                 (&#x27;remaining&#x27;,\n",
       "                                                                  Pipeline(steps=[(&#x27;standardscaler&#x27;,\n",
       "                                                                                   StandardScaler())]),\n",
       "                                                                  [&#x27;non_retail_business&#x27;,\n",
       "                                                                   &#x27;nitric_oxides&#x27;,\n",
       "                                                                   &#x27;access_to_highways&#x27;,\n",
       "                                                                   &#x27;tax_per_10k&#x27;,\n",
       "                                                                   &#x27;ownership_before&#x27;])]),\n",
       "                                 &lt;sklearn.compose._column_transformer.make_column_selector object at 0x0000021FDC39CB20&gt;)])</pre></div></div></div><div class=\"sk-parallel\"><div class=\"sk-parallel-item\"><div class=\"sk-item\"><div class=\"sk-label-container\"><div class=\"sk-label sk-toggleable\"><input class=\"sk-toggleable__control sk-hidden--visually\" id=\"sk-estimator-id-4\" type=\"checkbox\" ><label for=\"sk-estimator-id-4\" class=\"sk-toggleable__label sk-toggleable__label-arrow\">columntransformer</label><div class=\"sk-toggleable__content\"><pre>&lt;sklearn.compose._column_transformer.make_column_selector object at 0x0000021FDC39CB20&gt;</pre></div></div></div><div class=\"sk-serial\"><div class=\"sk-item sk-dashed-wrapped\"><div class=\"sk-parallel\"><div class=\"sk-parallel-item\"><div class=\"sk-item\"><div class=\"sk-label-container\"><div class=\"sk-label sk-toggleable\"><input class=\"sk-toggleable__control sk-hidden--visually\" id=\"sk-estimator-id-5\" type=\"checkbox\" ><label for=\"sk-estimator-id-5\" class=\"sk-toggleable__label sk-toggleable__label-arrow\">right_skew</label><div class=\"sk-toggleable__content\"><pre>[&#x27;crime_rate&#x27;, &#x27;charles_river&#x27;, &#x27;distance_to_employment&#x27;, &#x27;lower_status_percent&#x27;, &#x27;land_zoned_for_lots&#x27;, &#x27;rooms_per_dwelling&#x27;]</pre></div></div></div><div class=\"sk-serial\"><div class=\"sk-item\"><div class=\"sk-serial\"><div class=\"sk-item\"><div class=\"sk-estimator sk-toggleable\"><input class=\"sk-toggleable__control sk-hidden--visually\" id=\"sk-estimator-id-6\" type=\"checkbox\" ><label for=\"sk-estimator-id-6\" class=\"sk-toggleable__label sk-toggleable__label-arrow\">PowerTransformer</label><div class=\"sk-toggleable__content\"><pre>PowerTransformer()</pre></div></div></div><div class=\"sk-item\"><div class=\"sk-estimator sk-toggleable\"><input class=\"sk-toggleable__control sk-hidden--visually\" id=\"sk-estimator-id-7\" type=\"checkbox\" ><label for=\"sk-estimator-id-7\" class=\"sk-toggleable__label sk-toggleable__label-arrow\">StandardScaler</label><div class=\"sk-toggleable__content\"><pre>StandardScaler()</pre></div></div></div></div></div></div></div></div><div class=\"sk-parallel-item\"><div class=\"sk-item\"><div class=\"sk-label-container\"><div class=\"sk-label sk-toggleable\"><input class=\"sk-toggleable__control sk-hidden--visually\" id=\"sk-estimator-id-8\" type=\"checkbox\" ><label for=\"sk-estimator-id-8\" class=\"sk-toggleable__label sk-toggleable__label-arrow\">left_skew</label><div class=\"sk-toggleable__content\"><pre>[&#x27;blacks_to_town&#x27;, &#x27;pupil_to_teacher&#x27;]</pre></div></div></div><div class=\"sk-serial\"><div class=\"sk-item\"><div class=\"sk-serial\"><div class=\"sk-item\"><div class=\"sk-estimator sk-toggleable\"><input class=\"sk-toggleable__control sk-hidden--visually\" id=\"sk-estimator-id-9\" type=\"checkbox\" ><label for=\"sk-estimator-id-9\" class=\"sk-toggleable__label sk-toggleable__label-arrow\">FunctionTransformer</label><div class=\"sk-toggleable__content\"><pre>FunctionTransformer(func=&lt;ufunc &#x27;log&#x27;&gt;)</pre></div></div></div><div class=\"sk-item\"><div class=\"sk-estimator sk-toggleable\"><input class=\"sk-toggleable__control sk-hidden--visually\" id=\"sk-estimator-id-10\" type=\"checkbox\" ><label for=\"sk-estimator-id-10\" class=\"sk-toggleable__label sk-toggleable__label-arrow\">StandardScaler</label><div class=\"sk-toggleable__content\"><pre>StandardScaler()</pre></div></div></div></div></div></div></div></div><div class=\"sk-parallel-item\"><div class=\"sk-item\"><div class=\"sk-label-container\"><div class=\"sk-label sk-toggleable\"><input class=\"sk-toggleable__control sk-hidden--visually\" id=\"sk-estimator-id-11\" type=\"checkbox\" ><label for=\"sk-estimator-id-11\" class=\"sk-toggleable__label sk-toggleable__label-arrow\">remaining</label><div class=\"sk-toggleable__content\"><pre>[&#x27;non_retail_business&#x27;, &#x27;nitric_oxides&#x27;, &#x27;access_to_highways&#x27;, &#x27;tax_per_10k&#x27;, &#x27;ownership_before&#x27;]</pre></div></div></div><div class=\"sk-serial\"><div class=\"sk-item\"><div class=\"sk-serial\"><div class=\"sk-item\"><div class=\"sk-estimator sk-toggleable\"><input class=\"sk-toggleable__control sk-hidden--visually\" id=\"sk-estimator-id-12\" type=\"checkbox\" ><label for=\"sk-estimator-id-12\" class=\"sk-toggleable__label sk-toggleable__label-arrow\">StandardScaler</label><div class=\"sk-toggleable__content\"><pre>StandardScaler()</pre></div></div></div></div></div></div></div></div></div></div></div></div></div></div></div><div class=\"sk-item sk-dashed-wrapped\"><div class=\"sk-label-container\"><div class=\"sk-label sk-toggleable\"><input class=\"sk-toggleable__control sk-hidden--visually\" id=\"sk-estimator-id-13\" type=\"checkbox\" ><label for=\"sk-estimator-id-13\" class=\"sk-toggleable__label sk-toggleable__label-arrow\">selector: SelectFromModel</label><div class=\"sk-toggleable__content\"><pre>SelectFromModel(estimator=RandomForestRegressor(random_state=42),\n",
       "                threshold=0.005)</pre></div></div></div><div class=\"sk-parallel\"><div class=\"sk-parallel-item\"><div class=\"sk-item\"><div class=\"sk-label-container\"><div class=\"sk-label sk-toggleable\"><input class=\"sk-toggleable__control sk-hidden--visually\" id=\"sk-estimator-id-14\" type=\"checkbox\" ><label for=\"sk-estimator-id-14\" class=\"sk-toggleable__label sk-toggleable__label-arrow\">estimator: RandomForestRegressor</label><div class=\"sk-toggleable__content\"><pre>RandomForestRegressor(random_state=42)</pre></div></div></div><div class=\"sk-serial\"><div class=\"sk-item\"><div class=\"sk-estimator sk-toggleable\"><input class=\"sk-toggleable__control sk-hidden--visually\" id=\"sk-estimator-id-15\" type=\"checkbox\" ><label for=\"sk-estimator-id-15\" class=\"sk-toggleable__label sk-toggleable__label-arrow\">RandomForestRegressor</label><div class=\"sk-toggleable__content\"><pre>RandomForestRegressor(random_state=42)</pre></div></div></div></div></div></div></div></div><div class=\"sk-item\"><div class=\"sk-estimator sk-toggleable\"><input class=\"sk-toggleable__control sk-hidden--visually\" id=\"sk-estimator-id-16\" type=\"checkbox\" ><label for=\"sk-estimator-id-16\" class=\"sk-toggleable__label sk-toggleable__label-arrow\">RandomForestRegressor</label><div class=\"sk-toggleable__content\"><pre>RandomForestRegressor(random_state=42)</pre></div></div></div></div></div></div></div></div></div></div></div></div>"
      ],
      "text/plain": [
       "GridSearchCV(cv=3,\n",
       "             estimator=Pipeline(steps=[('preprocessing',\n",
       "                                        ColumnTransformer(transformers=[('columntransformer',\n",
       "                                                                         ColumnTransformer(transformers=[('right_skew',\n",
       "                                                                                                          Pipeline(steps=[('powertransformer',\n",
       "                                                                                                                           PowerTransformer()),\n",
       "                                                                                                                          ('standardscaler',\n",
       "                                                                                                                           StandardScaler())]),\n",
       "                                                                                                          ['crime_rate',\n",
       "                                                                                                           'charles_river',\n",
       "                                                                                                           'distance_to_employment',\n",
       "                                                                                                           'lower_status_percent',\n",
       "                                                                                                           'land_zoned_for_lo...\n",
       "                                        SelectFromModel(estimator=RandomForestRegressor(random_state=42),\n",
       "                                                        threshold=0.005)),\n",
       "                                       ('random_forest',\n",
       "                                        RandomForestRegressor(random_state=42))]),\n",
       "             n_jobs=-1,\n",
       "             param_grid={'random_forest__max_features': [4, 6, 8],\n",
       "                         'random_forest__min_samples_leaf': [1, 3, 5, 10],\n",
       "                         'random_forest__min_samples_split': [2, 4, 6, 8],\n",
       "                         'random_forest__n_estimators': [10, 50]},\n",
       "             scoring='neg_root_mean_squared_error')"
      ]
     },
     "execution_count": 47,
     "metadata": {},
     "output_type": "execute_result"
    }
   ],
   "source": [
    "full_pipeline = Pipeline([\n",
    "    (\"preprocessing\", preprocessing),\n",
    "    (\"selector\", SelectFromModel(RandomForestRegressor(random_state = 42), threshold= 0.005)),\n",
    "    (\"random_forest\", RandomForestRegressor(random_state=42)),\n",
    "])\n",
    "\n",
    "param_grid ={\n",
    "    'random_forest__n_estimators': [10, 50],\n",
    "     'random_forest__max_features': [4, 6, 8],\n",
    "     'random_forest__min_samples_leaf': [1, 3, 5, 10],\n",
    "     'random_forest__min_samples_split': [2, 4, 6, 8],\n",
    "\n",
    "}\n",
    "\n",
    "grid_search = GridSearchCV(full_pipeline, param_grid= param_grid, cv = 3, scoring = 'neg_root_mean_squared_error', n_jobs = -1)\n",
    "\n",
    "grid_search.fit(features, price)"
   ]
  },
  {
   "cell_type": "code",
   "execution_count": 48,
   "metadata": {
    "pycharm": {
     "name": "#%%\n"
    }
   },
   "outputs": [
    {
     "data": {
      "text/plain": [
       "{'random_forest__max_features': 4,\n",
       " 'random_forest__min_samples_leaf': 1,\n",
       " 'random_forest__min_samples_split': 4,\n",
       " 'random_forest__n_estimators': 50}"
      ]
     },
     "execution_count": 48,
     "metadata": {},
     "output_type": "execute_result"
    }
   ],
   "source": [
    "grid_search.best_params_"
   ]
  },
  {
   "cell_type": "code",
   "execution_count": 49,
   "metadata": {
    "pycharm": {
     "name": "#%%\n"
    }
   },
   "outputs": [
    {
     "data": {
      "text/plain": [
       "3.777117881147577"
      ]
     },
     "execution_count": 49,
     "metadata": {},
     "output_type": "execute_result"
    }
   ],
   "source": [
    "grid_search_rmse = -grid_search.best_score_\n",
    "grid_search_rmse"
   ]
  },
  {
   "cell_type": "code",
   "execution_count": 50,
   "metadata": {
    "pycharm": {
     "name": "#%%\n"
    }
   },
   "outputs": [
    {
     "data": {
      "text/plain": [
       "1.4384257256850443"
      ]
     },
     "execution_count": 50,
     "metadata": {},
     "output_type": "execute_result"
    }
   ],
   "source": [
    "grid_search.fit(features, price)\n",
    "grid_search_predict = grid_search.predict(features)\n",
    "\n",
    "search_mean_square = mean_squared_error(price, grid_search_predict, squared = False)\n",
    "search_mean_square"
   ]
  },
  {
   "cell_type": "markdown",
   "metadata": {
    "pycharm": {
     "name": "#%% md\n"
    }
   },
   "source": [
    "random search random forest"
   ]
  },
  {
   "cell_type": "code",
   "execution_count": 51,
   "metadata": {
    "pycharm": {
     "name": "#%%\n"
    }
   },
   "outputs": [
    {
     "data": {
      "text/html": [
       "<style>#sk-container-id-2 {color: black;}#sk-container-id-2 pre{padding: 0;}#sk-container-id-2 div.sk-toggleable {background-color: white;}#sk-container-id-2 label.sk-toggleable__label {cursor: pointer;display: block;width: 100%;margin-bottom: 0;padding: 0.3em;box-sizing: border-box;text-align: center;}#sk-container-id-2 label.sk-toggleable__label-arrow:before {content: \"▸\";float: left;margin-right: 0.25em;color: #696969;}#sk-container-id-2 label.sk-toggleable__label-arrow:hover:before {color: black;}#sk-container-id-2 div.sk-estimator:hover label.sk-toggleable__label-arrow:before {color: black;}#sk-container-id-2 div.sk-toggleable__content {max-height: 0;max-width: 0;overflow: hidden;text-align: left;background-color: #f0f8ff;}#sk-container-id-2 div.sk-toggleable__content pre {margin: 0.2em;color: black;border-radius: 0.25em;background-color: #f0f8ff;}#sk-container-id-2 input.sk-toggleable__control:checked~div.sk-toggleable__content {max-height: 200px;max-width: 100%;overflow: auto;}#sk-container-id-2 input.sk-toggleable__control:checked~label.sk-toggleable__label-arrow:before {content: \"▾\";}#sk-container-id-2 div.sk-estimator input.sk-toggleable__control:checked~label.sk-toggleable__label {background-color: #d4ebff;}#sk-container-id-2 div.sk-label input.sk-toggleable__control:checked~label.sk-toggleable__label {background-color: #d4ebff;}#sk-container-id-2 input.sk-hidden--visually {border: 0;clip: rect(1px 1px 1px 1px);clip: rect(1px, 1px, 1px, 1px);height: 1px;margin: -1px;overflow: hidden;padding: 0;position: absolute;width: 1px;}#sk-container-id-2 div.sk-estimator {font-family: monospace;background-color: #f0f8ff;border: 1px dotted black;border-radius: 0.25em;box-sizing: border-box;margin-bottom: 0.5em;}#sk-container-id-2 div.sk-estimator:hover {background-color: #d4ebff;}#sk-container-id-2 div.sk-parallel-item::after {content: \"\";width: 100%;border-bottom: 1px solid gray;flex-grow: 1;}#sk-container-id-2 div.sk-label:hover label.sk-toggleable__label {background-color: #d4ebff;}#sk-container-id-2 div.sk-serial::before {content: \"\";position: absolute;border-left: 1px solid gray;box-sizing: border-box;top: 0;bottom: 0;left: 50%;z-index: 0;}#sk-container-id-2 div.sk-serial {display: flex;flex-direction: column;align-items: center;background-color: white;padding-right: 0.2em;padding-left: 0.2em;position: relative;}#sk-container-id-2 div.sk-item {position: relative;z-index: 1;}#sk-container-id-2 div.sk-parallel {display: flex;align-items: stretch;justify-content: center;background-color: white;position: relative;}#sk-container-id-2 div.sk-item::before, #sk-container-id-2 div.sk-parallel-item::before {content: \"\";position: absolute;border-left: 1px solid gray;box-sizing: border-box;top: 0;bottom: 0;left: 50%;z-index: -1;}#sk-container-id-2 div.sk-parallel-item {display: flex;flex-direction: column;z-index: 1;position: relative;background-color: white;}#sk-container-id-2 div.sk-parallel-item:first-child::after {align-self: flex-end;width: 50%;}#sk-container-id-2 div.sk-parallel-item:last-child::after {align-self: flex-start;width: 50%;}#sk-container-id-2 div.sk-parallel-item:only-child::after {width: 0;}#sk-container-id-2 div.sk-dashed-wrapped {border: 1px dashed gray;margin: 0 0.4em 0.5em 0.4em;box-sizing: border-box;padding-bottom: 0.4em;background-color: white;}#sk-container-id-2 div.sk-label label {font-family: monospace;font-weight: bold;display: inline-block;line-height: 1.2em;}#sk-container-id-2 div.sk-label-container {text-align: center;}#sk-container-id-2 div.sk-container {/* jupyter's `normalize.less` sets `[hidden] { display: none; }` but bootstrap.min.css set `[hidden] { display: none !important; }` so we also need the `!important` here to be able to override the default hidden behavior on the sphinx rendered scikit-learn.org. See: https://github.com/scikit-learn/scikit-learn/issues/21755 */display: inline-block !important;position: relative;}#sk-container-id-2 div.sk-text-repr-fallback {display: none;}</style><div id=\"sk-container-id-2\" class=\"sk-top-container\"><div class=\"sk-text-repr-fallback\"><pre>RandomizedSearchCV(cv=3,\n",
       "                   estimator=Pipeline(steps=[(&#x27;preprocessing&#x27;,\n",
       "                                              ColumnTransformer(transformers=[(&#x27;columntransformer&#x27;,\n",
       "                                                                               ColumnTransformer(transformers=[(&#x27;right_skew&#x27;,\n",
       "                                                                                                                Pipeline(steps=[(&#x27;powertransformer&#x27;,\n",
       "                                                                                                                                 PowerTransformer()),\n",
       "                                                                                                                                (&#x27;standardscaler&#x27;,\n",
       "                                                                                                                                 StandardScaler())]),\n",
       "                                                                                                                [&#x27;crime_rate&#x27;,\n",
       "                                                                                                                 &#x27;charles_river&#x27;,\n",
       "                                                                                                                 &#x27;distance_to_employment&#x27;,\n",
       "                                                                                                                 &#x27;lower_status_percent&#x27;,\n",
       "                                                                                                                 &#x27;land_zoned_...\n",
       "                                        &#x27;random_forest__min_samples_leaf&#x27;: &lt;scipy.stats._distn_infrastructure.rv_frozen object at 0x0000021FDD58B130&gt;,\n",
       "                                        &#x27;random_forest__min_samples_split&#x27;: &lt;scipy.stats._distn_infrastructure.rv_frozen object at 0x0000021FDD589C00&gt;,\n",
       "                                        &#x27;random_forest__n_estimators&#x27;: &lt;scipy.stats._distn_infrastructure.rv_frozen object at 0x0000021FDB9621D0&gt;},\n",
       "                   random_state=42, scoring=&#x27;neg_root_mean_squared_error&#x27;)</pre><b>In a Jupyter environment, please rerun this cell to show the HTML representation or trust the notebook. <br />On GitHub, the HTML representation is unable to render, please try loading this page with nbviewer.org.</b></div><div class=\"sk-container\" hidden><div class=\"sk-item sk-dashed-wrapped\"><div class=\"sk-label-container\"><div class=\"sk-label sk-toggleable\"><input class=\"sk-toggleable__control sk-hidden--visually\" id=\"sk-estimator-id-17\" type=\"checkbox\" ><label for=\"sk-estimator-id-17\" class=\"sk-toggleable__label sk-toggleable__label-arrow\">RandomizedSearchCV</label><div class=\"sk-toggleable__content\"><pre>RandomizedSearchCV(cv=3,\n",
       "                   estimator=Pipeline(steps=[(&#x27;preprocessing&#x27;,\n",
       "                                              ColumnTransformer(transformers=[(&#x27;columntransformer&#x27;,\n",
       "                                                                               ColumnTransformer(transformers=[(&#x27;right_skew&#x27;,\n",
       "                                                                                                                Pipeline(steps=[(&#x27;powertransformer&#x27;,\n",
       "                                                                                                                                 PowerTransformer()),\n",
       "                                                                                                                                (&#x27;standardscaler&#x27;,\n",
       "                                                                                                                                 StandardScaler())]),\n",
       "                                                                                                                [&#x27;crime_rate&#x27;,\n",
       "                                                                                                                 &#x27;charles_river&#x27;,\n",
       "                                                                                                                 &#x27;distance_to_employment&#x27;,\n",
       "                                                                                                                 &#x27;lower_status_percent&#x27;,\n",
       "                                                                                                                 &#x27;land_zoned_...\n",
       "                                        &#x27;random_forest__min_samples_leaf&#x27;: &lt;scipy.stats._distn_infrastructure.rv_frozen object at 0x0000021FDD58B130&gt;,\n",
       "                                        &#x27;random_forest__min_samples_split&#x27;: &lt;scipy.stats._distn_infrastructure.rv_frozen object at 0x0000021FDD589C00&gt;,\n",
       "                                        &#x27;random_forest__n_estimators&#x27;: &lt;scipy.stats._distn_infrastructure.rv_frozen object at 0x0000021FDB9621D0&gt;},\n",
       "                   random_state=42, scoring=&#x27;neg_root_mean_squared_error&#x27;)</pre></div></div></div><div class=\"sk-parallel\"><div class=\"sk-parallel-item\"><div class=\"sk-item\"><div class=\"sk-label-container\"><div class=\"sk-label sk-toggleable\"><input class=\"sk-toggleable__control sk-hidden--visually\" id=\"sk-estimator-id-18\" type=\"checkbox\" ><label for=\"sk-estimator-id-18\" class=\"sk-toggleable__label sk-toggleable__label-arrow\">estimator: Pipeline</label><div class=\"sk-toggleable__content\"><pre>Pipeline(steps=[(&#x27;preprocessing&#x27;,\n",
       "                 ColumnTransformer(transformers=[(&#x27;columntransformer&#x27;,\n",
       "                                                  ColumnTransformer(transformers=[(&#x27;right_skew&#x27;,\n",
       "                                                                                   Pipeline(steps=[(&#x27;powertransformer&#x27;,\n",
       "                                                                                                    PowerTransformer()),\n",
       "                                                                                                   (&#x27;standardscaler&#x27;,\n",
       "                                                                                                    StandardScaler())]),\n",
       "                                                                                   [&#x27;crime_rate&#x27;,\n",
       "                                                                                    &#x27;charles_river&#x27;,\n",
       "                                                                                    &#x27;distance_to_employment&#x27;,\n",
       "                                                                                    &#x27;lower_status_percent&#x27;,\n",
       "                                                                                    &#x27;land_zoned_for_lots&#x27;,\n",
       "                                                                                    &#x27;rooms_per_dwelling&#x27;]),\n",
       "                                                                                  (...\n",
       "                                                                                   [&#x27;blacks_to_town&#x27;,\n",
       "                                                                                    &#x27;pupil_to_teacher&#x27;]),\n",
       "                                                                                  (&#x27;remaining&#x27;,\n",
       "                                                                                   Pipeline(steps=[(&#x27;standardscaler&#x27;,\n",
       "                                                                                                    StandardScaler())]),\n",
       "                                                                                   [&#x27;non_retail_business&#x27;,\n",
       "                                                                                    &#x27;nitric_oxides&#x27;,\n",
       "                                                                                    &#x27;access_to_highways&#x27;,\n",
       "                                                                                    &#x27;tax_per_10k&#x27;,\n",
       "                                                                                    &#x27;ownership_before&#x27;])]),\n",
       "                                                  &lt;sklearn.compose._column_transformer.make_column_selector object at 0x0000021FDC39CB20&gt;)])),\n",
       "                (&#x27;random_forest&#x27;, RandomForestRegressor(random_state=42))])</pre></div></div></div><div class=\"sk-serial\"><div class=\"sk-item\"><div class=\"sk-serial\"><div class=\"sk-item sk-dashed-wrapped\"><div class=\"sk-label-container\"><div class=\"sk-label sk-toggleable\"><input class=\"sk-toggleable__control sk-hidden--visually\" id=\"sk-estimator-id-19\" type=\"checkbox\" ><label for=\"sk-estimator-id-19\" class=\"sk-toggleable__label sk-toggleable__label-arrow\">preprocessing: ColumnTransformer</label><div class=\"sk-toggleable__content\"><pre>ColumnTransformer(transformers=[(&#x27;columntransformer&#x27;,\n",
       "                                 ColumnTransformer(transformers=[(&#x27;right_skew&#x27;,\n",
       "                                                                  Pipeline(steps=[(&#x27;powertransformer&#x27;,\n",
       "                                                                                   PowerTransformer()),\n",
       "                                                                                  (&#x27;standardscaler&#x27;,\n",
       "                                                                                   StandardScaler())]),\n",
       "                                                                  [&#x27;crime_rate&#x27;,\n",
       "                                                                   &#x27;charles_river&#x27;,\n",
       "                                                                   &#x27;distance_to_employment&#x27;,\n",
       "                                                                   &#x27;lower_status_percent&#x27;,\n",
       "                                                                   &#x27;land_zoned_for_lots&#x27;,\n",
       "                                                                   &#x27;rooms_per_dwelling&#x27;]),\n",
       "                                                                 (&#x27;left_skew&#x27;,\n",
       "                                                                  Pipeline(steps=[(&#x27;fun...\n",
       "                                                                                   FunctionTransformer(func=&lt;ufunc &#x27;log&#x27;&gt;)),\n",
       "                                                                                  (&#x27;standardscaler&#x27;,\n",
       "                                                                                   StandardScaler())]),\n",
       "                                                                  [&#x27;blacks_to_town&#x27;,\n",
       "                                                                   &#x27;pupil_to_teacher&#x27;]),\n",
       "                                                                 (&#x27;remaining&#x27;,\n",
       "                                                                  Pipeline(steps=[(&#x27;standardscaler&#x27;,\n",
       "                                                                                   StandardScaler())]),\n",
       "                                                                  [&#x27;non_retail_business&#x27;,\n",
       "                                                                   &#x27;nitric_oxides&#x27;,\n",
       "                                                                   &#x27;access_to_highways&#x27;,\n",
       "                                                                   &#x27;tax_per_10k&#x27;,\n",
       "                                                                   &#x27;ownership_before&#x27;])]),\n",
       "                                 &lt;sklearn.compose._column_transformer.make_column_selector object at 0x0000021FDC39CB20&gt;)])</pre></div></div></div><div class=\"sk-parallel\"><div class=\"sk-parallel-item\"><div class=\"sk-item\"><div class=\"sk-label-container\"><div class=\"sk-label sk-toggleable\"><input class=\"sk-toggleable__control sk-hidden--visually\" id=\"sk-estimator-id-20\" type=\"checkbox\" ><label for=\"sk-estimator-id-20\" class=\"sk-toggleable__label sk-toggleable__label-arrow\">columntransformer</label><div class=\"sk-toggleable__content\"><pre>&lt;sklearn.compose._column_transformer.make_column_selector object at 0x0000021FDC39CB20&gt;</pre></div></div></div><div class=\"sk-serial\"><div class=\"sk-item sk-dashed-wrapped\"><div class=\"sk-parallel\"><div class=\"sk-parallel-item\"><div class=\"sk-item\"><div class=\"sk-label-container\"><div class=\"sk-label sk-toggleable\"><input class=\"sk-toggleable__control sk-hidden--visually\" id=\"sk-estimator-id-21\" type=\"checkbox\" ><label for=\"sk-estimator-id-21\" class=\"sk-toggleable__label sk-toggleable__label-arrow\">right_skew</label><div class=\"sk-toggleable__content\"><pre>[&#x27;crime_rate&#x27;, &#x27;charles_river&#x27;, &#x27;distance_to_employment&#x27;, &#x27;lower_status_percent&#x27;, &#x27;land_zoned_for_lots&#x27;, &#x27;rooms_per_dwelling&#x27;]</pre></div></div></div><div class=\"sk-serial\"><div class=\"sk-item\"><div class=\"sk-serial\"><div class=\"sk-item\"><div class=\"sk-estimator sk-toggleable\"><input class=\"sk-toggleable__control sk-hidden--visually\" id=\"sk-estimator-id-22\" type=\"checkbox\" ><label for=\"sk-estimator-id-22\" class=\"sk-toggleable__label sk-toggleable__label-arrow\">PowerTransformer</label><div class=\"sk-toggleable__content\"><pre>PowerTransformer()</pre></div></div></div><div class=\"sk-item\"><div class=\"sk-estimator sk-toggleable\"><input class=\"sk-toggleable__control sk-hidden--visually\" id=\"sk-estimator-id-23\" type=\"checkbox\" ><label for=\"sk-estimator-id-23\" class=\"sk-toggleable__label sk-toggleable__label-arrow\">StandardScaler</label><div class=\"sk-toggleable__content\"><pre>StandardScaler()</pre></div></div></div></div></div></div></div></div><div class=\"sk-parallel-item\"><div class=\"sk-item\"><div class=\"sk-label-container\"><div class=\"sk-label sk-toggleable\"><input class=\"sk-toggleable__control sk-hidden--visually\" id=\"sk-estimator-id-24\" type=\"checkbox\" ><label for=\"sk-estimator-id-24\" class=\"sk-toggleable__label sk-toggleable__label-arrow\">left_skew</label><div class=\"sk-toggleable__content\"><pre>[&#x27;blacks_to_town&#x27;, &#x27;pupil_to_teacher&#x27;]</pre></div></div></div><div class=\"sk-serial\"><div class=\"sk-item\"><div class=\"sk-serial\"><div class=\"sk-item\"><div class=\"sk-estimator sk-toggleable\"><input class=\"sk-toggleable__control sk-hidden--visually\" id=\"sk-estimator-id-25\" type=\"checkbox\" ><label for=\"sk-estimator-id-25\" class=\"sk-toggleable__label sk-toggleable__label-arrow\">FunctionTransformer</label><div class=\"sk-toggleable__content\"><pre>FunctionTransformer(func=&lt;ufunc &#x27;log&#x27;&gt;)</pre></div></div></div><div class=\"sk-item\"><div class=\"sk-estimator sk-toggleable\"><input class=\"sk-toggleable__control sk-hidden--visually\" id=\"sk-estimator-id-26\" type=\"checkbox\" ><label for=\"sk-estimator-id-26\" class=\"sk-toggleable__label sk-toggleable__label-arrow\">StandardScaler</label><div class=\"sk-toggleable__content\"><pre>StandardScaler()</pre></div></div></div></div></div></div></div></div><div class=\"sk-parallel-item\"><div class=\"sk-item\"><div class=\"sk-label-container\"><div class=\"sk-label sk-toggleable\"><input class=\"sk-toggleable__control sk-hidden--visually\" id=\"sk-estimator-id-27\" type=\"checkbox\" ><label for=\"sk-estimator-id-27\" class=\"sk-toggleable__label sk-toggleable__label-arrow\">remaining</label><div class=\"sk-toggleable__content\"><pre>[&#x27;non_retail_business&#x27;, &#x27;nitric_oxides&#x27;, &#x27;access_to_highways&#x27;, &#x27;tax_per_10k&#x27;, &#x27;ownership_before&#x27;]</pre></div></div></div><div class=\"sk-serial\"><div class=\"sk-item\"><div class=\"sk-serial\"><div class=\"sk-item\"><div class=\"sk-estimator sk-toggleable\"><input class=\"sk-toggleable__control sk-hidden--visually\" id=\"sk-estimator-id-28\" type=\"checkbox\" ><label for=\"sk-estimator-id-28\" class=\"sk-toggleable__label sk-toggleable__label-arrow\">StandardScaler</label><div class=\"sk-toggleable__content\"><pre>StandardScaler()</pre></div></div></div></div></div></div></div></div></div></div></div></div></div></div></div><div class=\"sk-item\"><div class=\"sk-estimator sk-toggleable\"><input class=\"sk-toggleable__control sk-hidden--visually\" id=\"sk-estimator-id-29\" type=\"checkbox\" ><label for=\"sk-estimator-id-29\" class=\"sk-toggleable__label sk-toggleable__label-arrow\">RandomForestRegressor</label><div class=\"sk-toggleable__content\"><pre>RandomForestRegressor(random_state=42)</pre></div></div></div></div></div></div></div></div></div></div></div></div>"
      ],
      "text/plain": [
       "RandomizedSearchCV(cv=3,\n",
       "                   estimator=Pipeline(steps=[('preprocessing',\n",
       "                                              ColumnTransformer(transformers=[('columntransformer',\n",
       "                                                                               ColumnTransformer(transformers=[('right_skew',\n",
       "                                                                                                                Pipeline(steps=[('powertransformer',\n",
       "                                                                                                                                 PowerTransformer()),\n",
       "                                                                                                                                ('standardscaler',\n",
       "                                                                                                                                 StandardScaler())]),\n",
       "                                                                                                                ['crime_rate',\n",
       "                                                                                                                 'charles_river',\n",
       "                                                                                                                 'distance_to_employment',\n",
       "                                                                                                                 'lower_status_percent',\n",
       "                                                                                                                 'land_zoned_...\n",
       "                                        'random_forest__min_samples_leaf': <scipy.stats._distn_infrastructure.rv_frozen object at 0x0000021FDD58B130>,\n",
       "                                        'random_forest__min_samples_split': <scipy.stats._distn_infrastructure.rv_frozen object at 0x0000021FDD589C00>,\n",
       "                                        'random_forest__n_estimators': <scipy.stats._distn_infrastructure.rv_frozen object at 0x0000021FDB9621D0>},\n",
       "                   random_state=42, scoring='neg_root_mean_squared_error')"
      ]
     },
     "execution_count": 51,
     "metadata": {},
     "output_type": "execute_result"
    }
   ],
   "source": [
    "full_pipeline = Pipeline([\n",
    "    (\"preprocessing\", preprocessing),\n",
    "    # (\"selector\", SelectFromModel(RandomForestRegressor(random_state = 42), threshold= 0.005)),\n",
    "    (\"random_forest\", RandomForestRegressor(random_state=42)),\n",
    "])\n",
    "\n",
    "\n",
    "param_distribs = {\n",
    "    'random_forest__max_features': randint(low=3, high= 20),\n",
    "    'random_forest__n_estimators': randint(low= 2, high = 30),\n",
    "    'random_forest__min_samples_split': randint(low=2, high = 20),\n",
    "    'random_forest__min_samples_leaf': randint(low= 2, high = 30)\n",
    "}\n",
    "\n",
    "random_search = RandomizedSearchCV(full_pipeline, param_distribs, n_iter = 10, cv = 3, scoring = \"neg_root_mean_squared_error\", random_state= 42, n_jobs = -1)\n",
    "\n",
    "random_search.fit(features, price)"
   ]
  },
  {
   "cell_type": "code",
   "execution_count": 52,
   "metadata": {
    "pycharm": {
     "name": "#%%\n"
    }
   },
   "outputs": [
    {
     "data": {
      "text/plain": [
       "{'random_forest__max_features': 14,\n",
       " 'random_forest__min_samples_leaf': 7,\n",
       " 'random_forest__min_samples_split': 3,\n",
       " 'random_forest__n_estimators': 29}"
      ]
     },
     "execution_count": 52,
     "metadata": {},
     "output_type": "execute_result"
    }
   ],
   "source": [
    "random_search.best_params_"
   ]
  },
  {
   "cell_type": "code",
   "execution_count": 53,
   "metadata": {
    "pycharm": {
     "name": "#%%\n"
    }
   },
   "outputs": [
    {
     "data": {
      "text/plain": [
       "4.307208649232581"
      ]
     },
     "execution_count": 53,
     "metadata": {},
     "output_type": "execute_result"
    }
   ],
   "source": [
    "random_search_rmse = -random_search.best_score_\n",
    "random_search_rmse"
   ]
  },
  {
   "cell_type": "code",
   "execution_count": 54,
   "metadata": {
    "pycharm": {
     "name": "#%%\n"
    }
   },
   "outputs": [
    {
     "data": {
      "text/plain": [
       "3.0284891780190164"
      ]
     },
     "execution_count": 54,
     "metadata": {},
     "output_type": "execute_result"
    }
   ],
   "source": [
    "random_search.fit(features, price)\n",
    "random_search_predict = random_search.predict(features)\n",
    "\n",
    "random_mean_square = mean_squared_error(price, random_search_predict, squared = False)\n",
    "random_mean_square"
   ]
  },
  {
   "cell_type": "markdown",
   "metadata": {
    "pycharm": {
     "name": "#%% md\n"
    }
   },
   "source": [
    "Grid search with xgboost"
   ]
  },
  {
   "cell_type": "code",
   "execution_count": 64,
   "metadata": {
    "pycharm": {
     "name": "#%%\n"
    }
   },
   "outputs": [
    {
     "data": {
      "text/html": [
       "<style>#sk-container-id-3 {color: black;}#sk-container-id-3 pre{padding: 0;}#sk-container-id-3 div.sk-toggleable {background-color: white;}#sk-container-id-3 label.sk-toggleable__label {cursor: pointer;display: block;width: 100%;margin-bottom: 0;padding: 0.3em;box-sizing: border-box;text-align: center;}#sk-container-id-3 label.sk-toggleable__label-arrow:before {content: \"▸\";float: left;margin-right: 0.25em;color: #696969;}#sk-container-id-3 label.sk-toggleable__label-arrow:hover:before {color: black;}#sk-container-id-3 div.sk-estimator:hover label.sk-toggleable__label-arrow:before {color: black;}#sk-container-id-3 div.sk-toggleable__content {max-height: 0;max-width: 0;overflow: hidden;text-align: left;background-color: #f0f8ff;}#sk-container-id-3 div.sk-toggleable__content pre {margin: 0.2em;color: black;border-radius: 0.25em;background-color: #f0f8ff;}#sk-container-id-3 input.sk-toggleable__control:checked~div.sk-toggleable__content {max-height: 200px;max-width: 100%;overflow: auto;}#sk-container-id-3 input.sk-toggleable__control:checked~label.sk-toggleable__label-arrow:before {content: \"▾\";}#sk-container-id-3 div.sk-estimator input.sk-toggleable__control:checked~label.sk-toggleable__label {background-color: #d4ebff;}#sk-container-id-3 div.sk-label input.sk-toggleable__control:checked~label.sk-toggleable__label {background-color: #d4ebff;}#sk-container-id-3 input.sk-hidden--visually {border: 0;clip: rect(1px 1px 1px 1px);clip: rect(1px, 1px, 1px, 1px);height: 1px;margin: -1px;overflow: hidden;padding: 0;position: absolute;width: 1px;}#sk-container-id-3 div.sk-estimator {font-family: monospace;background-color: #f0f8ff;border: 1px dotted black;border-radius: 0.25em;box-sizing: border-box;margin-bottom: 0.5em;}#sk-container-id-3 div.sk-estimator:hover {background-color: #d4ebff;}#sk-container-id-3 div.sk-parallel-item::after {content: \"\";width: 100%;border-bottom: 1px solid gray;flex-grow: 1;}#sk-container-id-3 div.sk-label:hover label.sk-toggleable__label {background-color: #d4ebff;}#sk-container-id-3 div.sk-serial::before {content: \"\";position: absolute;border-left: 1px solid gray;box-sizing: border-box;top: 0;bottom: 0;left: 50%;z-index: 0;}#sk-container-id-3 div.sk-serial {display: flex;flex-direction: column;align-items: center;background-color: white;padding-right: 0.2em;padding-left: 0.2em;position: relative;}#sk-container-id-3 div.sk-item {position: relative;z-index: 1;}#sk-container-id-3 div.sk-parallel {display: flex;align-items: stretch;justify-content: center;background-color: white;position: relative;}#sk-container-id-3 div.sk-item::before, #sk-container-id-3 div.sk-parallel-item::before {content: \"\";position: absolute;border-left: 1px solid gray;box-sizing: border-box;top: 0;bottom: 0;left: 50%;z-index: -1;}#sk-container-id-3 div.sk-parallel-item {display: flex;flex-direction: column;z-index: 1;position: relative;background-color: white;}#sk-container-id-3 div.sk-parallel-item:first-child::after {align-self: flex-end;width: 50%;}#sk-container-id-3 div.sk-parallel-item:last-child::after {align-self: flex-start;width: 50%;}#sk-container-id-3 div.sk-parallel-item:only-child::after {width: 0;}#sk-container-id-3 div.sk-dashed-wrapped {border: 1px dashed gray;margin: 0 0.4em 0.5em 0.4em;box-sizing: border-box;padding-bottom: 0.4em;background-color: white;}#sk-container-id-3 div.sk-label label {font-family: monospace;font-weight: bold;display: inline-block;line-height: 1.2em;}#sk-container-id-3 div.sk-label-container {text-align: center;}#sk-container-id-3 div.sk-container {/* jupyter's `normalize.less` sets `[hidden] { display: none; }` but bootstrap.min.css set `[hidden] { display: none !important; }` so we also need the `!important` here to be able to override the default hidden behavior on the sphinx rendered scikit-learn.org. See: https://github.com/scikit-learn/scikit-learn/issues/21755 */display: inline-block !important;position: relative;}#sk-container-id-3 div.sk-text-repr-fallback {display: none;}</style><div id=\"sk-container-id-3\" class=\"sk-top-container\"><div class=\"sk-text-repr-fallback\"><pre>GridSearchCV(cv=3,\n",
       "             estimator=Pipeline(steps=[(&#x27;preprocessing&#x27;,\n",
       "                                        ColumnTransformer(transformers=[(&#x27;columntransformer&#x27;,\n",
       "                                                                         ColumnTransformer(transformers=[(&#x27;right_skew&#x27;,\n",
       "                                                                                                          Pipeline(steps=[(&#x27;powertransformer&#x27;,\n",
       "                                                                                                                           PowerTransformer()),\n",
       "                                                                                                                          (&#x27;standardscaler&#x27;,\n",
       "                                                                                                                           StandardScaler())]),\n",
       "                                                                                                          [&#x27;crime_rate&#x27;,\n",
       "                                                                                                           &#x27;charles_river&#x27;,\n",
       "                                                                                                           &#x27;distance_to_employment&#x27;,\n",
       "                                                                                                           &#x27;lower_status_percent&#x27;,\n",
       "                                                                                                           &#x27;land_zoned_for_lo...\n",
       "                                                     monotone_constraints=None,\n",
       "                                                     n_estimators=100,\n",
       "                                                     n_jobs=None,\n",
       "                                                     num_parallel_tree=None,\n",
       "                                                     predictor=None,\n",
       "                                                     random_state=None, ...))]),\n",
       "             n_jobs=-1,\n",
       "             param_grid={&#x27;xgboost__colsample_bytree&#x27;: [0.6, 0.8, 1.0],\n",
       "                         &#x27;xgboost__gamma&#x27;: [0.5, 1, 1.5, 2, 2.5],\n",
       "                         &#x27;xgboost__max_depth&#x27;: [3, 4, 5],\n",
       "                         &#x27;xgboost__min_child_weight&#x27;: [1, 5, 10],\n",
       "                         &#x27;xgboost__subsample&#x27;: [0.4, 0.6, 0.8, 1.0]},\n",
       "             scoring=&#x27;neg_root_mean_squared_error&#x27;)</pre><b>In a Jupyter environment, please rerun this cell to show the HTML representation or trust the notebook. <br />On GitHub, the HTML representation is unable to render, please try loading this page with nbviewer.org.</b></div><div class=\"sk-container\" hidden><div class=\"sk-item sk-dashed-wrapped\"><div class=\"sk-label-container\"><div class=\"sk-label sk-toggleable\"><input class=\"sk-toggleable__control sk-hidden--visually\" id=\"sk-estimator-id-30\" type=\"checkbox\" ><label for=\"sk-estimator-id-30\" class=\"sk-toggleable__label sk-toggleable__label-arrow\">GridSearchCV</label><div class=\"sk-toggleable__content\"><pre>GridSearchCV(cv=3,\n",
       "             estimator=Pipeline(steps=[(&#x27;preprocessing&#x27;,\n",
       "                                        ColumnTransformer(transformers=[(&#x27;columntransformer&#x27;,\n",
       "                                                                         ColumnTransformer(transformers=[(&#x27;right_skew&#x27;,\n",
       "                                                                                                          Pipeline(steps=[(&#x27;powertransformer&#x27;,\n",
       "                                                                                                                           PowerTransformer()),\n",
       "                                                                                                                          (&#x27;standardscaler&#x27;,\n",
       "                                                                                                                           StandardScaler())]),\n",
       "                                                                                                          [&#x27;crime_rate&#x27;,\n",
       "                                                                                                           &#x27;charles_river&#x27;,\n",
       "                                                                                                           &#x27;distance_to_employment&#x27;,\n",
       "                                                                                                           &#x27;lower_status_percent&#x27;,\n",
       "                                                                                                           &#x27;land_zoned_for_lo...\n",
       "                                                     monotone_constraints=None,\n",
       "                                                     n_estimators=100,\n",
       "                                                     n_jobs=None,\n",
       "                                                     num_parallel_tree=None,\n",
       "                                                     predictor=None,\n",
       "                                                     random_state=None, ...))]),\n",
       "             n_jobs=-1,\n",
       "             param_grid={&#x27;xgboost__colsample_bytree&#x27;: [0.6, 0.8, 1.0],\n",
       "                         &#x27;xgboost__gamma&#x27;: [0.5, 1, 1.5, 2, 2.5],\n",
       "                         &#x27;xgboost__max_depth&#x27;: [3, 4, 5],\n",
       "                         &#x27;xgboost__min_child_weight&#x27;: [1, 5, 10],\n",
       "                         &#x27;xgboost__subsample&#x27;: [0.4, 0.6, 0.8, 1.0]},\n",
       "             scoring=&#x27;neg_root_mean_squared_error&#x27;)</pre></div></div></div><div class=\"sk-parallel\"><div class=\"sk-parallel-item\"><div class=\"sk-item\"><div class=\"sk-label-container\"><div class=\"sk-label sk-toggleable\"><input class=\"sk-toggleable__control sk-hidden--visually\" id=\"sk-estimator-id-31\" type=\"checkbox\" ><label for=\"sk-estimator-id-31\" class=\"sk-toggleable__label sk-toggleable__label-arrow\">estimator: Pipeline</label><div class=\"sk-toggleable__content\"><pre>Pipeline(steps=[(&#x27;preprocessing&#x27;,\n",
       "                 ColumnTransformer(transformers=[(&#x27;columntransformer&#x27;,\n",
       "                                                  ColumnTransformer(transformers=[(&#x27;right_skew&#x27;,\n",
       "                                                                                   Pipeline(steps=[(&#x27;powertransformer&#x27;,\n",
       "                                                                                                    PowerTransformer()),\n",
       "                                                                                                   (&#x27;standardscaler&#x27;,\n",
       "                                                                                                    StandardScaler())]),\n",
       "                                                                                   [&#x27;crime_rate&#x27;,\n",
       "                                                                                    &#x27;charles_river&#x27;,\n",
       "                                                                                    &#x27;distance_to_employment&#x27;,\n",
       "                                                                                    &#x27;lower_status_percent&#x27;,\n",
       "                                                                                    &#x27;land_zoned_for_lots&#x27;,\n",
       "                                                                                    &#x27;rooms_per_dwelling&#x27;]),\n",
       "                                                                                  (...\n",
       "                              feature_types=None, gamma=None, gpu_id=None,\n",
       "                              grow_policy=None, importance_type=None,\n",
       "                              interaction_constraints=None, learning_rate=None,\n",
       "                              max_bin=None, max_cat_threshold=None,\n",
       "                              max_cat_to_onehot=None, max_delta_step=None,\n",
       "                              max_depth=None, max_leaves=None,\n",
       "                              min_child_weight=None, missing=nan,\n",
       "                              monotone_constraints=None, n_estimators=100,\n",
       "                              n_jobs=None, num_parallel_tree=None,\n",
       "                              predictor=None, random_state=None, ...))])</pre></div></div></div><div class=\"sk-serial\"><div class=\"sk-item\"><div class=\"sk-serial\"><div class=\"sk-item sk-dashed-wrapped\"><div class=\"sk-label-container\"><div class=\"sk-label sk-toggleable\"><input class=\"sk-toggleable__control sk-hidden--visually\" id=\"sk-estimator-id-32\" type=\"checkbox\" ><label for=\"sk-estimator-id-32\" class=\"sk-toggleable__label sk-toggleable__label-arrow\">preprocessing: ColumnTransformer</label><div class=\"sk-toggleable__content\"><pre>ColumnTransformer(transformers=[(&#x27;columntransformer&#x27;,\n",
       "                                 ColumnTransformer(transformers=[(&#x27;right_skew&#x27;,\n",
       "                                                                  Pipeline(steps=[(&#x27;powertransformer&#x27;,\n",
       "                                                                                   PowerTransformer()),\n",
       "                                                                                  (&#x27;standardscaler&#x27;,\n",
       "                                                                                   StandardScaler())]),\n",
       "                                                                  [&#x27;crime_rate&#x27;,\n",
       "                                                                   &#x27;charles_river&#x27;,\n",
       "                                                                   &#x27;distance_to_employment&#x27;,\n",
       "                                                                   &#x27;lower_status_percent&#x27;,\n",
       "                                                                   &#x27;land_zoned_for_lots&#x27;,\n",
       "                                                                   &#x27;rooms_per_dwelling&#x27;]),\n",
       "                                                                 (&#x27;left_skew&#x27;,\n",
       "                                                                  Pipeline(steps=[(&#x27;fun...\n",
       "                                                                                   FunctionTransformer(func=&lt;ufunc &#x27;log&#x27;&gt;)),\n",
       "                                                                                  (&#x27;standardscaler&#x27;,\n",
       "                                                                                   StandardScaler())]),\n",
       "                                                                  [&#x27;blacks_to_town&#x27;,\n",
       "                                                                   &#x27;pupil_to_teacher&#x27;]),\n",
       "                                                                 (&#x27;remaining&#x27;,\n",
       "                                                                  Pipeline(steps=[(&#x27;standardscaler&#x27;,\n",
       "                                                                                   StandardScaler())]),\n",
       "                                                                  [&#x27;non_retail_business&#x27;,\n",
       "                                                                   &#x27;nitric_oxides&#x27;,\n",
       "                                                                   &#x27;access_to_highways&#x27;,\n",
       "                                                                   &#x27;tax_per_10k&#x27;,\n",
       "                                                                   &#x27;ownership_before&#x27;])]),\n",
       "                                 &lt;sklearn.compose._column_transformer.make_column_selector object at 0x0000021FDC39CB20&gt;)])</pre></div></div></div><div class=\"sk-parallel\"><div class=\"sk-parallel-item\"><div class=\"sk-item\"><div class=\"sk-label-container\"><div class=\"sk-label sk-toggleable\"><input class=\"sk-toggleable__control sk-hidden--visually\" id=\"sk-estimator-id-33\" type=\"checkbox\" ><label for=\"sk-estimator-id-33\" class=\"sk-toggleable__label sk-toggleable__label-arrow\">columntransformer</label><div class=\"sk-toggleable__content\"><pre>&lt;sklearn.compose._column_transformer.make_column_selector object at 0x0000021FDC39CB20&gt;</pre></div></div></div><div class=\"sk-serial\"><div class=\"sk-item sk-dashed-wrapped\"><div class=\"sk-parallel\"><div class=\"sk-parallel-item\"><div class=\"sk-item\"><div class=\"sk-label-container\"><div class=\"sk-label sk-toggleable\"><input class=\"sk-toggleable__control sk-hidden--visually\" id=\"sk-estimator-id-34\" type=\"checkbox\" ><label for=\"sk-estimator-id-34\" class=\"sk-toggleable__label sk-toggleable__label-arrow\">right_skew</label><div class=\"sk-toggleable__content\"><pre>[&#x27;crime_rate&#x27;, &#x27;charles_river&#x27;, &#x27;distance_to_employment&#x27;, &#x27;lower_status_percent&#x27;, &#x27;land_zoned_for_lots&#x27;, &#x27;rooms_per_dwelling&#x27;]</pre></div></div></div><div class=\"sk-serial\"><div class=\"sk-item\"><div class=\"sk-serial\"><div class=\"sk-item\"><div class=\"sk-estimator sk-toggleable\"><input class=\"sk-toggleable__control sk-hidden--visually\" id=\"sk-estimator-id-35\" type=\"checkbox\" ><label for=\"sk-estimator-id-35\" class=\"sk-toggleable__label sk-toggleable__label-arrow\">PowerTransformer</label><div class=\"sk-toggleable__content\"><pre>PowerTransformer()</pre></div></div></div><div class=\"sk-item\"><div class=\"sk-estimator sk-toggleable\"><input class=\"sk-toggleable__control sk-hidden--visually\" id=\"sk-estimator-id-36\" type=\"checkbox\" ><label for=\"sk-estimator-id-36\" class=\"sk-toggleable__label sk-toggleable__label-arrow\">StandardScaler</label><div class=\"sk-toggleable__content\"><pre>StandardScaler()</pre></div></div></div></div></div></div></div></div><div class=\"sk-parallel-item\"><div class=\"sk-item\"><div class=\"sk-label-container\"><div class=\"sk-label sk-toggleable\"><input class=\"sk-toggleable__control sk-hidden--visually\" id=\"sk-estimator-id-37\" type=\"checkbox\" ><label for=\"sk-estimator-id-37\" class=\"sk-toggleable__label sk-toggleable__label-arrow\">left_skew</label><div class=\"sk-toggleable__content\"><pre>[&#x27;blacks_to_town&#x27;, &#x27;pupil_to_teacher&#x27;]</pre></div></div></div><div class=\"sk-serial\"><div class=\"sk-item\"><div class=\"sk-serial\"><div class=\"sk-item\"><div class=\"sk-estimator sk-toggleable\"><input class=\"sk-toggleable__control sk-hidden--visually\" id=\"sk-estimator-id-38\" type=\"checkbox\" ><label for=\"sk-estimator-id-38\" class=\"sk-toggleable__label sk-toggleable__label-arrow\">FunctionTransformer</label><div class=\"sk-toggleable__content\"><pre>FunctionTransformer(func=&lt;ufunc &#x27;log&#x27;&gt;)</pre></div></div></div><div class=\"sk-item\"><div class=\"sk-estimator sk-toggleable\"><input class=\"sk-toggleable__control sk-hidden--visually\" id=\"sk-estimator-id-39\" type=\"checkbox\" ><label for=\"sk-estimator-id-39\" class=\"sk-toggleable__label sk-toggleable__label-arrow\">StandardScaler</label><div class=\"sk-toggleable__content\"><pre>StandardScaler()</pre></div></div></div></div></div></div></div></div><div class=\"sk-parallel-item\"><div class=\"sk-item\"><div class=\"sk-label-container\"><div class=\"sk-label sk-toggleable\"><input class=\"sk-toggleable__control sk-hidden--visually\" id=\"sk-estimator-id-40\" type=\"checkbox\" ><label for=\"sk-estimator-id-40\" class=\"sk-toggleable__label sk-toggleable__label-arrow\">remaining</label><div class=\"sk-toggleable__content\"><pre>[&#x27;non_retail_business&#x27;, &#x27;nitric_oxides&#x27;, &#x27;access_to_highways&#x27;, &#x27;tax_per_10k&#x27;, &#x27;ownership_before&#x27;]</pre></div></div></div><div class=\"sk-serial\"><div class=\"sk-item\"><div class=\"sk-serial\"><div class=\"sk-item\"><div class=\"sk-estimator sk-toggleable\"><input class=\"sk-toggleable__control sk-hidden--visually\" id=\"sk-estimator-id-41\" type=\"checkbox\" ><label for=\"sk-estimator-id-41\" class=\"sk-toggleable__label sk-toggleable__label-arrow\">StandardScaler</label><div class=\"sk-toggleable__content\"><pre>StandardScaler()</pre></div></div></div></div></div></div></div></div></div></div></div></div></div></div></div><div class=\"sk-item\"><div class=\"sk-estimator sk-toggleable\"><input class=\"sk-toggleable__control sk-hidden--visually\" id=\"sk-estimator-id-42\" type=\"checkbox\" ><label for=\"sk-estimator-id-42\" class=\"sk-toggleable__label sk-toggleable__label-arrow\">XGBRegressor</label><div class=\"sk-toggleable__content\"><pre>XGBRegressor(base_score=None, booster=None, callbacks=None,\n",
       "             colsample_bylevel=None, colsample_bynode=None,\n",
       "             colsample_bytree=None, early_stopping_rounds=None,\n",
       "             enable_categorical=False, eval_metric=None, feature_types=None,\n",
       "             gamma=None, gpu_id=None, grow_policy=None, importance_type=None,\n",
       "             interaction_constraints=None, learning_rate=None, max_bin=None,\n",
       "             max_cat_threshold=None, max_cat_to_onehot=None,\n",
       "             max_delta_step=None, max_depth=None, max_leaves=None,\n",
       "             min_child_weight=None, missing=nan, monotone_constraints=None,\n",
       "             n_estimators=100, n_jobs=None, num_parallel_tree=None,\n",
       "             predictor=None, random_state=None, ...)</pre></div></div></div></div></div></div></div></div></div></div></div></div>"
      ],
      "text/plain": [
       "GridSearchCV(cv=3,\n",
       "             estimator=Pipeline(steps=[('preprocessing',\n",
       "                                        ColumnTransformer(transformers=[('columntransformer',\n",
       "                                                                         ColumnTransformer(transformers=[('right_skew',\n",
       "                                                                                                          Pipeline(steps=[('powertransformer',\n",
       "                                                                                                                           PowerTransformer()),\n",
       "                                                                                                                          ('standardscaler',\n",
       "                                                                                                                           StandardScaler())]),\n",
       "                                                                                                          ['crime_rate',\n",
       "                                                                                                           'charles_river',\n",
       "                                                                                                           'distance_to_employment',\n",
       "                                                                                                           'lower_status_percent',\n",
       "                                                                                                           'land_zoned_for_lo...\n",
       "                                                     monotone_constraints=None,\n",
       "                                                     n_estimators=100,\n",
       "                                                     n_jobs=None,\n",
       "                                                     num_parallel_tree=None,\n",
       "                                                     predictor=None,\n",
       "                                                     random_state=None, ...))]),\n",
       "             n_jobs=-1,\n",
       "             param_grid={'xgboost__colsample_bytree': [0.6, 0.8, 1.0],\n",
       "                         'xgboost__gamma': [0.5, 1, 1.5, 2, 2.5],\n",
       "                         'xgboost__max_depth': [3, 4, 5],\n",
       "                         'xgboost__min_child_weight': [1, 5, 10],\n",
       "                         'xgboost__subsample': [0.4, 0.6, 0.8, 1.0]},\n",
       "             scoring='neg_root_mean_squared_error')"
      ]
     },
     "execution_count": 64,
     "metadata": {},
     "output_type": "execute_result"
    }
   ],
   "source": [
    "full_pipeline = Pipeline([\n",
    "    (\"preprocessing\", preprocessing),\n",
    "    # (\"selector\", SelectFromModel(RandomForestRegressor(random_state = 42), threshold = 0.005)),\n",
    "    (\"xgboost\", XGBRegressor()),\n",
    "])\n",
    "\n",
    "\n",
    "params = {\n",
    "    'xgboost__min_child_weight': [1, 5, 10],\n",
    "    'xgboost__gamma': [0.5, 1, 1.5, 2, 2.5],\n",
    "    'xgboost__subsample': [0.4, 0.6, 0.8, 1.0],\n",
    "    'xgboost__colsample_bytree': [0.6, 0.8, 1.0],\n",
    "    'xgboost__max_depth': [3, 4, 5]\n",
    "}\n",
    "\n",
    "grid_search_xgboost = GridSearchCV(full_pipeline, param_grid = params, cv = 3, scoring = \"neg_root_mean_squared_error\", n_jobs= -1)\n",
    "\n",
    "grid_search_xgboost.fit(features, price)"
   ]
  },
  {
   "cell_type": "code",
   "execution_count": 65,
   "metadata": {
    "pycharm": {
     "name": "#%%\n"
    }
   },
   "outputs": [
    {
     "data": {
      "text/plain": [
       "{'xgboost__colsample_bytree': 1.0,\n",
       " 'xgboost__gamma': 2.5,\n",
       " 'xgboost__max_depth': 3,\n",
       " 'xgboost__min_child_weight': 10,\n",
       " 'xgboost__subsample': 1.0}"
      ]
     },
     "execution_count": 65,
     "metadata": {},
     "output_type": "execute_result"
    }
   ],
   "source": [
    "grid_search_xgboost.best_params_"
   ]
  },
  {
   "cell_type": "code",
   "execution_count": 66,
   "metadata": {
    "pycharm": {
     "name": "#%%\n"
    }
   },
   "outputs": [
    {
     "data": {
      "text/plain": [
       "3.630142628341543"
      ]
     },
     "execution_count": 66,
     "metadata": {},
     "output_type": "execute_result"
    }
   ],
   "source": [
    "xgboost_grid_rmse = -grid_search_xgboost.best_score_\n",
    "xgboost_grid_rmse"
   ]
  },
  {
   "cell_type": "code",
   "execution_count": 67,
   "metadata": {
    "pycharm": {
     "name": "#%%\n"
    }
   },
   "outputs": [
    {
     "data": {
      "text/plain": [
       "1.128611472904045"
      ]
     },
     "execution_count": 67,
     "metadata": {},
     "output_type": "execute_result"
    }
   ],
   "source": [
    "grid_search_xgboost.fit(features, price)\n",
    "grid_search_predict = grid_search_xgboost.predict(features)\n",
    "\n",
    "grid_mean_square = mean_squared_error(price, grid_search_predict, squared = False)\n",
    "grid_mean_square"
   ]
  },
  {
   "cell_type": "markdown",
   "metadata": {
    "pycharm": {
     "name": "#%% md\n"
    }
   },
   "source": [
    "Random search hyperparameter tuning xgboost"
   ]
  },
  {
   "cell_type": "code",
   "execution_count": 68,
   "metadata": {
    "pycharm": {
     "name": "#%%\n"
    }
   },
   "outputs": [
    {
     "data": {
      "text/html": [
       "<style>#sk-container-id-4 {color: black;}#sk-container-id-4 pre{padding: 0;}#sk-container-id-4 div.sk-toggleable {background-color: white;}#sk-container-id-4 label.sk-toggleable__label {cursor: pointer;display: block;width: 100%;margin-bottom: 0;padding: 0.3em;box-sizing: border-box;text-align: center;}#sk-container-id-4 label.sk-toggleable__label-arrow:before {content: \"▸\";float: left;margin-right: 0.25em;color: #696969;}#sk-container-id-4 label.sk-toggleable__label-arrow:hover:before {color: black;}#sk-container-id-4 div.sk-estimator:hover label.sk-toggleable__label-arrow:before {color: black;}#sk-container-id-4 div.sk-toggleable__content {max-height: 0;max-width: 0;overflow: hidden;text-align: left;background-color: #f0f8ff;}#sk-container-id-4 div.sk-toggleable__content pre {margin: 0.2em;color: black;border-radius: 0.25em;background-color: #f0f8ff;}#sk-container-id-4 input.sk-toggleable__control:checked~div.sk-toggleable__content {max-height: 200px;max-width: 100%;overflow: auto;}#sk-container-id-4 input.sk-toggleable__control:checked~label.sk-toggleable__label-arrow:before {content: \"▾\";}#sk-container-id-4 div.sk-estimator input.sk-toggleable__control:checked~label.sk-toggleable__label {background-color: #d4ebff;}#sk-container-id-4 div.sk-label input.sk-toggleable__control:checked~label.sk-toggleable__label {background-color: #d4ebff;}#sk-container-id-4 input.sk-hidden--visually {border: 0;clip: rect(1px 1px 1px 1px);clip: rect(1px, 1px, 1px, 1px);height: 1px;margin: -1px;overflow: hidden;padding: 0;position: absolute;width: 1px;}#sk-container-id-4 div.sk-estimator {font-family: monospace;background-color: #f0f8ff;border: 1px dotted black;border-radius: 0.25em;box-sizing: border-box;margin-bottom: 0.5em;}#sk-container-id-4 div.sk-estimator:hover {background-color: #d4ebff;}#sk-container-id-4 div.sk-parallel-item::after {content: \"\";width: 100%;border-bottom: 1px solid gray;flex-grow: 1;}#sk-container-id-4 div.sk-label:hover label.sk-toggleable__label {background-color: #d4ebff;}#sk-container-id-4 div.sk-serial::before {content: \"\";position: absolute;border-left: 1px solid gray;box-sizing: border-box;top: 0;bottom: 0;left: 50%;z-index: 0;}#sk-container-id-4 div.sk-serial {display: flex;flex-direction: column;align-items: center;background-color: white;padding-right: 0.2em;padding-left: 0.2em;position: relative;}#sk-container-id-4 div.sk-item {position: relative;z-index: 1;}#sk-container-id-4 div.sk-parallel {display: flex;align-items: stretch;justify-content: center;background-color: white;position: relative;}#sk-container-id-4 div.sk-item::before, #sk-container-id-4 div.sk-parallel-item::before {content: \"\";position: absolute;border-left: 1px solid gray;box-sizing: border-box;top: 0;bottom: 0;left: 50%;z-index: -1;}#sk-container-id-4 div.sk-parallel-item {display: flex;flex-direction: column;z-index: 1;position: relative;background-color: white;}#sk-container-id-4 div.sk-parallel-item:first-child::after {align-self: flex-end;width: 50%;}#sk-container-id-4 div.sk-parallel-item:last-child::after {align-self: flex-start;width: 50%;}#sk-container-id-4 div.sk-parallel-item:only-child::after {width: 0;}#sk-container-id-4 div.sk-dashed-wrapped {border: 1px dashed gray;margin: 0 0.4em 0.5em 0.4em;box-sizing: border-box;padding-bottom: 0.4em;background-color: white;}#sk-container-id-4 div.sk-label label {font-family: monospace;font-weight: bold;display: inline-block;line-height: 1.2em;}#sk-container-id-4 div.sk-label-container {text-align: center;}#sk-container-id-4 div.sk-container {/* jupyter's `normalize.less` sets `[hidden] { display: none; }` but bootstrap.min.css set `[hidden] { display: none !important; }` so we also need the `!important` here to be able to override the default hidden behavior on the sphinx rendered scikit-learn.org. See: https://github.com/scikit-learn/scikit-learn/issues/21755 */display: inline-block !important;position: relative;}#sk-container-id-4 div.sk-text-repr-fallback {display: none;}</style><div id=\"sk-container-id-4\" class=\"sk-top-container\"><div class=\"sk-text-repr-fallback\"><pre>RandomizedSearchCV(cv=3,\n",
       "                   estimator=Pipeline(steps=[(&#x27;preprocessing&#x27;,\n",
       "                                              ColumnTransformer(transformers=[(&#x27;columntransformer&#x27;,\n",
       "                                                                               ColumnTransformer(transformers=[(&#x27;right_skew&#x27;,\n",
       "                                                                                                                Pipeline(steps=[(&#x27;powertransformer&#x27;,\n",
       "                                                                                                                                 PowerTransformer()),\n",
       "                                                                                                                                (&#x27;standardscaler&#x27;,\n",
       "                                                                                                                                 StandardScaler())]),\n",
       "                                                                                                                [&#x27;crime_rate&#x27;,\n",
       "                                                                                                                 &#x27;charles_river&#x27;,\n",
       "                                                                                                                 &#x27;distance_to_employment&#x27;,\n",
       "                                                                                                                 &#x27;lower_status_percent&#x27;,\n",
       "                                                                                                                 &#x27;land_zoned_...\n",
       "                                        &#x27;xgboost__gamma&#x27;: &lt;scipy.stats._distn_infrastructure.rv_frozen object at 0x0000021FDC39FA30&gt;,\n",
       "                                        &#x27;xgboost__max_depth&#x27;: &lt;scipy.stats._distn_infrastructure.rv_frozen object at 0x0000021FDC299D20&gt;,\n",
       "                                        &#x27;xgboost__min_child_weight&#x27;: &lt;scipy.stats._distn_infrastructure.rv_frozen object at 0x0000021FDB962050&gt;,\n",
       "                                        &#x27;xgboost__subsample&#x27;: &lt;scipy.stats._distn_infrastructure.rv_frozen object at 0x0000021FDC39CDF0&gt;},\n",
       "                   random_state=42, scoring=&#x27;neg_root_mean_squared_error&#x27;)</pre><b>In a Jupyter environment, please rerun this cell to show the HTML representation or trust the notebook. <br />On GitHub, the HTML representation is unable to render, please try loading this page with nbviewer.org.</b></div><div class=\"sk-container\" hidden><div class=\"sk-item sk-dashed-wrapped\"><div class=\"sk-label-container\"><div class=\"sk-label sk-toggleable\"><input class=\"sk-toggleable__control sk-hidden--visually\" id=\"sk-estimator-id-43\" type=\"checkbox\" ><label for=\"sk-estimator-id-43\" class=\"sk-toggleable__label sk-toggleable__label-arrow\">RandomizedSearchCV</label><div class=\"sk-toggleable__content\"><pre>RandomizedSearchCV(cv=3,\n",
       "                   estimator=Pipeline(steps=[(&#x27;preprocessing&#x27;,\n",
       "                                              ColumnTransformer(transformers=[(&#x27;columntransformer&#x27;,\n",
       "                                                                               ColumnTransformer(transformers=[(&#x27;right_skew&#x27;,\n",
       "                                                                                                                Pipeline(steps=[(&#x27;powertransformer&#x27;,\n",
       "                                                                                                                                 PowerTransformer()),\n",
       "                                                                                                                                (&#x27;standardscaler&#x27;,\n",
       "                                                                                                                                 StandardScaler())]),\n",
       "                                                                                                                [&#x27;crime_rate&#x27;,\n",
       "                                                                                                                 &#x27;charles_river&#x27;,\n",
       "                                                                                                                 &#x27;distance_to_employment&#x27;,\n",
       "                                                                                                                 &#x27;lower_status_percent&#x27;,\n",
       "                                                                                                                 &#x27;land_zoned_...\n",
       "                                        &#x27;xgboost__gamma&#x27;: &lt;scipy.stats._distn_infrastructure.rv_frozen object at 0x0000021FDC39FA30&gt;,\n",
       "                                        &#x27;xgboost__max_depth&#x27;: &lt;scipy.stats._distn_infrastructure.rv_frozen object at 0x0000021FDC299D20&gt;,\n",
       "                                        &#x27;xgboost__min_child_weight&#x27;: &lt;scipy.stats._distn_infrastructure.rv_frozen object at 0x0000021FDB962050&gt;,\n",
       "                                        &#x27;xgboost__subsample&#x27;: &lt;scipy.stats._distn_infrastructure.rv_frozen object at 0x0000021FDC39CDF0&gt;},\n",
       "                   random_state=42, scoring=&#x27;neg_root_mean_squared_error&#x27;)</pre></div></div></div><div class=\"sk-parallel\"><div class=\"sk-parallel-item\"><div class=\"sk-item\"><div class=\"sk-label-container\"><div class=\"sk-label sk-toggleable\"><input class=\"sk-toggleable__control sk-hidden--visually\" id=\"sk-estimator-id-44\" type=\"checkbox\" ><label for=\"sk-estimator-id-44\" class=\"sk-toggleable__label sk-toggleable__label-arrow\">estimator: Pipeline</label><div class=\"sk-toggleable__content\"><pre>Pipeline(steps=[(&#x27;preprocessing&#x27;,\n",
       "                 ColumnTransformer(transformers=[(&#x27;columntransformer&#x27;,\n",
       "                                                  ColumnTransformer(transformers=[(&#x27;right_skew&#x27;,\n",
       "                                                                                   Pipeline(steps=[(&#x27;powertransformer&#x27;,\n",
       "                                                                                                    PowerTransformer()),\n",
       "                                                                                                   (&#x27;standardscaler&#x27;,\n",
       "                                                                                                    StandardScaler())]),\n",
       "                                                                                   [&#x27;crime_rate&#x27;,\n",
       "                                                                                    &#x27;charles_river&#x27;,\n",
       "                                                                                    &#x27;distance_to_employment&#x27;,\n",
       "                                                                                    &#x27;lower_status_percent&#x27;,\n",
       "                                                                                    &#x27;land_zoned_for_lots&#x27;,\n",
       "                                                                                    &#x27;rooms_per_dwelling&#x27;]),\n",
       "                                                                                  (...\n",
       "                              feature_types=None, gamma=None, gpu_id=None,\n",
       "                              grow_policy=None, importance_type=None,\n",
       "                              interaction_constraints=None, learning_rate=None,\n",
       "                              max_bin=None, max_cat_threshold=None,\n",
       "                              max_cat_to_onehot=None, max_delta_step=None,\n",
       "                              max_depth=None, max_leaves=None,\n",
       "                              min_child_weight=None, missing=nan,\n",
       "                              monotone_constraints=None, n_estimators=100,\n",
       "                              n_jobs=None, num_parallel_tree=None,\n",
       "                              predictor=None, random_state=42, ...))])</pre></div></div></div><div class=\"sk-serial\"><div class=\"sk-item\"><div class=\"sk-serial\"><div class=\"sk-item sk-dashed-wrapped\"><div class=\"sk-label-container\"><div class=\"sk-label sk-toggleable\"><input class=\"sk-toggleable__control sk-hidden--visually\" id=\"sk-estimator-id-45\" type=\"checkbox\" ><label for=\"sk-estimator-id-45\" class=\"sk-toggleable__label sk-toggleable__label-arrow\">preprocessing: ColumnTransformer</label><div class=\"sk-toggleable__content\"><pre>ColumnTransformer(transformers=[(&#x27;columntransformer&#x27;,\n",
       "                                 ColumnTransformer(transformers=[(&#x27;right_skew&#x27;,\n",
       "                                                                  Pipeline(steps=[(&#x27;powertransformer&#x27;,\n",
       "                                                                                   PowerTransformer()),\n",
       "                                                                                  (&#x27;standardscaler&#x27;,\n",
       "                                                                                   StandardScaler())]),\n",
       "                                                                  [&#x27;crime_rate&#x27;,\n",
       "                                                                   &#x27;charles_river&#x27;,\n",
       "                                                                   &#x27;distance_to_employment&#x27;,\n",
       "                                                                   &#x27;lower_status_percent&#x27;,\n",
       "                                                                   &#x27;land_zoned_for_lots&#x27;,\n",
       "                                                                   &#x27;rooms_per_dwelling&#x27;]),\n",
       "                                                                 (&#x27;left_skew&#x27;,\n",
       "                                                                  Pipeline(steps=[(&#x27;fun...\n",
       "                                                                                   FunctionTransformer(func=&lt;ufunc &#x27;log&#x27;&gt;)),\n",
       "                                                                                  (&#x27;standardscaler&#x27;,\n",
       "                                                                                   StandardScaler())]),\n",
       "                                                                  [&#x27;blacks_to_town&#x27;,\n",
       "                                                                   &#x27;pupil_to_teacher&#x27;]),\n",
       "                                                                 (&#x27;remaining&#x27;,\n",
       "                                                                  Pipeline(steps=[(&#x27;standardscaler&#x27;,\n",
       "                                                                                   StandardScaler())]),\n",
       "                                                                  [&#x27;non_retail_business&#x27;,\n",
       "                                                                   &#x27;nitric_oxides&#x27;,\n",
       "                                                                   &#x27;access_to_highways&#x27;,\n",
       "                                                                   &#x27;tax_per_10k&#x27;,\n",
       "                                                                   &#x27;ownership_before&#x27;])]),\n",
       "                                 &lt;sklearn.compose._column_transformer.make_column_selector object at 0x0000021FDC39CB20&gt;)])</pre></div></div></div><div class=\"sk-parallel\"><div class=\"sk-parallel-item\"><div class=\"sk-item\"><div class=\"sk-label-container\"><div class=\"sk-label sk-toggleable\"><input class=\"sk-toggleable__control sk-hidden--visually\" id=\"sk-estimator-id-46\" type=\"checkbox\" ><label for=\"sk-estimator-id-46\" class=\"sk-toggleable__label sk-toggleable__label-arrow\">columntransformer</label><div class=\"sk-toggleable__content\"><pre>&lt;sklearn.compose._column_transformer.make_column_selector object at 0x0000021FDC39CB20&gt;</pre></div></div></div><div class=\"sk-serial\"><div class=\"sk-item sk-dashed-wrapped\"><div class=\"sk-parallel\"><div class=\"sk-parallel-item\"><div class=\"sk-item\"><div class=\"sk-label-container\"><div class=\"sk-label sk-toggleable\"><input class=\"sk-toggleable__control sk-hidden--visually\" id=\"sk-estimator-id-47\" type=\"checkbox\" ><label for=\"sk-estimator-id-47\" class=\"sk-toggleable__label sk-toggleable__label-arrow\">right_skew</label><div class=\"sk-toggleable__content\"><pre>[&#x27;crime_rate&#x27;, &#x27;charles_river&#x27;, &#x27;distance_to_employment&#x27;, &#x27;lower_status_percent&#x27;, &#x27;land_zoned_for_lots&#x27;, &#x27;rooms_per_dwelling&#x27;]</pre></div></div></div><div class=\"sk-serial\"><div class=\"sk-item\"><div class=\"sk-serial\"><div class=\"sk-item\"><div class=\"sk-estimator sk-toggleable\"><input class=\"sk-toggleable__control sk-hidden--visually\" id=\"sk-estimator-id-48\" type=\"checkbox\" ><label for=\"sk-estimator-id-48\" class=\"sk-toggleable__label sk-toggleable__label-arrow\">PowerTransformer</label><div class=\"sk-toggleable__content\"><pre>PowerTransformer()</pre></div></div></div><div class=\"sk-item\"><div class=\"sk-estimator sk-toggleable\"><input class=\"sk-toggleable__control sk-hidden--visually\" id=\"sk-estimator-id-49\" type=\"checkbox\" ><label for=\"sk-estimator-id-49\" class=\"sk-toggleable__label sk-toggleable__label-arrow\">StandardScaler</label><div class=\"sk-toggleable__content\"><pre>StandardScaler()</pre></div></div></div></div></div></div></div></div><div class=\"sk-parallel-item\"><div class=\"sk-item\"><div class=\"sk-label-container\"><div class=\"sk-label sk-toggleable\"><input class=\"sk-toggleable__control sk-hidden--visually\" id=\"sk-estimator-id-50\" type=\"checkbox\" ><label for=\"sk-estimator-id-50\" class=\"sk-toggleable__label sk-toggleable__label-arrow\">left_skew</label><div class=\"sk-toggleable__content\"><pre>[&#x27;blacks_to_town&#x27;, &#x27;pupil_to_teacher&#x27;]</pre></div></div></div><div class=\"sk-serial\"><div class=\"sk-item\"><div class=\"sk-serial\"><div class=\"sk-item\"><div class=\"sk-estimator sk-toggleable\"><input class=\"sk-toggleable__control sk-hidden--visually\" id=\"sk-estimator-id-51\" type=\"checkbox\" ><label for=\"sk-estimator-id-51\" class=\"sk-toggleable__label sk-toggleable__label-arrow\">FunctionTransformer</label><div class=\"sk-toggleable__content\"><pre>FunctionTransformer(func=&lt;ufunc &#x27;log&#x27;&gt;)</pre></div></div></div><div class=\"sk-item\"><div class=\"sk-estimator sk-toggleable\"><input class=\"sk-toggleable__control sk-hidden--visually\" id=\"sk-estimator-id-52\" type=\"checkbox\" ><label for=\"sk-estimator-id-52\" class=\"sk-toggleable__label sk-toggleable__label-arrow\">StandardScaler</label><div class=\"sk-toggleable__content\"><pre>StandardScaler()</pre></div></div></div></div></div></div></div></div><div class=\"sk-parallel-item\"><div class=\"sk-item\"><div class=\"sk-label-container\"><div class=\"sk-label sk-toggleable\"><input class=\"sk-toggleable__control sk-hidden--visually\" id=\"sk-estimator-id-53\" type=\"checkbox\" ><label for=\"sk-estimator-id-53\" class=\"sk-toggleable__label sk-toggleable__label-arrow\">remaining</label><div class=\"sk-toggleable__content\"><pre>[&#x27;non_retail_business&#x27;, &#x27;nitric_oxides&#x27;, &#x27;access_to_highways&#x27;, &#x27;tax_per_10k&#x27;, &#x27;ownership_before&#x27;]</pre></div></div></div><div class=\"sk-serial\"><div class=\"sk-item\"><div class=\"sk-serial\"><div class=\"sk-item\"><div class=\"sk-estimator sk-toggleable\"><input class=\"sk-toggleable__control sk-hidden--visually\" id=\"sk-estimator-id-54\" type=\"checkbox\" ><label for=\"sk-estimator-id-54\" class=\"sk-toggleable__label sk-toggleable__label-arrow\">StandardScaler</label><div class=\"sk-toggleable__content\"><pre>StandardScaler()</pre></div></div></div></div></div></div></div></div></div></div></div></div></div></div></div><div class=\"sk-item sk-dashed-wrapped\"><div class=\"sk-label-container\"><div class=\"sk-label sk-toggleable\"><input class=\"sk-toggleable__control sk-hidden--visually\" id=\"sk-estimator-id-55\" type=\"checkbox\" ><label for=\"sk-estimator-id-55\" class=\"sk-toggleable__label sk-toggleable__label-arrow\">selector: SelectFromModel</label><div class=\"sk-toggleable__content\"><pre>SelectFromModel(estimator=RandomForestRegressor(random_state=42),\n",
       "                threshold=0.005)</pre></div></div></div><div class=\"sk-parallel\"><div class=\"sk-parallel-item\"><div class=\"sk-item\"><div class=\"sk-label-container\"><div class=\"sk-label sk-toggleable\"><input class=\"sk-toggleable__control sk-hidden--visually\" id=\"sk-estimator-id-56\" type=\"checkbox\" ><label for=\"sk-estimator-id-56\" class=\"sk-toggleable__label sk-toggleable__label-arrow\">estimator: RandomForestRegressor</label><div class=\"sk-toggleable__content\"><pre>RandomForestRegressor(random_state=42)</pre></div></div></div><div class=\"sk-serial\"><div class=\"sk-item\"><div class=\"sk-estimator sk-toggleable\"><input class=\"sk-toggleable__control sk-hidden--visually\" id=\"sk-estimator-id-57\" type=\"checkbox\" ><label for=\"sk-estimator-id-57\" class=\"sk-toggleable__label sk-toggleable__label-arrow\">RandomForestRegressor</label><div class=\"sk-toggleable__content\"><pre>RandomForestRegressor(random_state=42)</pre></div></div></div></div></div></div></div></div><div class=\"sk-item\"><div class=\"sk-estimator sk-toggleable\"><input class=\"sk-toggleable__control sk-hidden--visually\" id=\"sk-estimator-id-58\" type=\"checkbox\" ><label for=\"sk-estimator-id-58\" class=\"sk-toggleable__label sk-toggleable__label-arrow\">XGBRegressor</label><div class=\"sk-toggleable__content\"><pre>XGBRegressor(base_score=None, booster=None, callbacks=None,\n",
       "             colsample_bylevel=None, colsample_bynode=None,\n",
       "             colsample_bytree=None, early_stopping_rounds=None,\n",
       "             enable_categorical=False, eval_metric=None, feature_types=None,\n",
       "             gamma=None, gpu_id=None, grow_policy=None, importance_type=None,\n",
       "             interaction_constraints=None, learning_rate=None, max_bin=None,\n",
       "             max_cat_threshold=None, max_cat_to_onehot=None,\n",
       "             max_delta_step=None, max_depth=None, max_leaves=None,\n",
       "             min_child_weight=None, missing=nan, monotone_constraints=None,\n",
       "             n_estimators=100, n_jobs=None, num_parallel_tree=None,\n",
       "             predictor=None, random_state=42, ...)</pre></div></div></div></div></div></div></div></div></div></div></div></div>"
      ],
      "text/plain": [
       "RandomizedSearchCV(cv=3,\n",
       "                   estimator=Pipeline(steps=[('preprocessing',\n",
       "                                              ColumnTransformer(transformers=[('columntransformer',\n",
       "                                                                               ColumnTransformer(transformers=[('right_skew',\n",
       "                                                                                                                Pipeline(steps=[('powertransformer',\n",
       "                                                                                                                                 PowerTransformer()),\n",
       "                                                                                                                                ('standardscaler',\n",
       "                                                                                                                                 StandardScaler())]),\n",
       "                                                                                                                ['crime_rate',\n",
       "                                                                                                                 'charles_river',\n",
       "                                                                                                                 'distance_to_employment',\n",
       "                                                                                                                 'lower_status_percent',\n",
       "                                                                                                                 'land_zoned_...\n",
       "                                        'xgboost__gamma': <scipy.stats._distn_infrastructure.rv_frozen object at 0x0000021FDC39FA30>,\n",
       "                                        'xgboost__max_depth': <scipy.stats._distn_infrastructure.rv_frozen object at 0x0000021FDC299D20>,\n",
       "                                        'xgboost__min_child_weight': <scipy.stats._distn_infrastructure.rv_frozen object at 0x0000021FDB962050>,\n",
       "                                        'xgboost__subsample': <scipy.stats._distn_infrastructure.rv_frozen object at 0x0000021FDC39CDF0>},\n",
       "                   random_state=42, scoring='neg_root_mean_squared_error')"
      ]
     },
     "execution_count": 68,
     "metadata": {},
     "output_type": "execute_result"
    }
   ],
   "source": [
    "full_pipeline = Pipeline([\n",
    "    (\"preprocessing\", preprocessing),\n",
    "    (\"selector\", SelectFromModel(RandomForestRegressor(random_state = 42), threshold = 0.005)),\n",
    "    (\"xgboost\", XGBRegressor(random_state=42)),\n",
    "])\n",
    "\n",
    "param_distribs = {\n",
    "    'xgboost__min_child_weight': randint(low = 1, high = 20),\n",
    "    'xgboost__gamma': randint(low = 0.5, high = 5),\n",
    "    'xgboost__subsample': randint(low = 0.4, high = 2),\n",
    "    'xgboost__colsample_bytree': randint(low = 0.6, high = 2),\n",
    "    'xgboost__max_depth': randint(low = 3, high = 50)\n",
    "}\n",
    "\n",
    "random_search_xg= RandomizedSearchCV(full_pipeline, param_distribs, n_iter = 10, cv = 3, scoring = \"neg_root_mean_squared_error\", random_state= 42, n_jobs = -1)\n",
    "\n",
    "random_search_xg.fit(features, price)"
   ]
  },
  {
   "cell_type": "code",
   "execution_count": 69,
   "metadata": {
    "pycharm": {
     "name": "#%%\n"
    }
   },
   "outputs": [
    {
     "data": {
      "text/plain": [
       "3.6875573668579626"
      ]
     },
     "execution_count": 69,
     "metadata": {},
     "output_type": "execute_result"
    }
   ],
   "source": [
    "xgboost_rand_rmse = -random_search_xg.best_score_\n",
    "xgboost_rand_rmse"
   ]
  },
  {
   "cell_type": "code",
   "execution_count": 70,
   "metadata": {
    "pycharm": {
     "name": "#%%\n"
    }
   },
   "outputs": [
    {
     "data": {
      "text/plain": [
       "0.5598964920911704"
      ]
     },
     "execution_count": 70,
     "metadata": {},
     "output_type": "execute_result"
    }
   ],
   "source": [
    "random_search_xg.fit(features, price)\n",
    "random_search_predict = random_search_xg.predict(features)\n",
    "\n",
    "random_mean_xg = mean_squared_error(price, random_search_predict, squared = False)\n",
    "random_mean_xg"
   ]
  },
  {
   "cell_type": "markdown",
   "metadata": {
    "pycharm": {
     "name": "#%% md\n"
    }
   },
   "source": [
    "Analyse the best models and their errors"
   ]
  },
  {
   "cell_type": "code",
   "execution_count": 71,
   "metadata": {
    "pycharm": {
     "name": "#%%\n"
    }
   },
   "outputs": [],
   "source": [
    "features_test = strat_test_set.drop(\"value_of_owner_occupied_homes\", axis = 1)\n",
    "price_test = strat_test_set[\"value_of_owner_occupied_homes\"].copy()"
   ]
  },
  {
   "cell_type": "code",
   "execution_count": 72,
   "metadata": {
    "pycharm": {
     "name": "#%%\n"
    }
   },
   "outputs": [
    {
     "name": "stdout",
     "output_type": "stream",
     "text": [
      "3.506070637573728\n"
     ]
    }
   ],
   "source": [
    "final_model = random_search.best_estimator_\n",
    "\n",
    "features_test = strat_test_set.drop(\"value_of_owner_occupied_homes\", axis = 1)\n",
    "price_test = strat_test_set[\"value_of_owner_occupied_homes\"].copy()\n",
    "\n",
    "final_prediction = final_model.predict(features_test)\n",
    "final_rmse = mean_squared_error(price_test, final_prediction, squared = False)\n",
    "print(final_rmse)"
   ]
  },
  {
   "cell_type": "code",
   "execution_count": 73,
   "metadata": {
    "pycharm": {
     "name": "#%%\n"
    }
   },
   "outputs": [
    {
     "data": {
      "image/png": "[encoded data removed]",
      "text/plain": [
       "<Figure size 576x396 with 2 Axes>"
      ]
     },
     "metadata": {},
     "output_type": "display_data"
    },
    {
     "data": {
      "text/plain": [
       "<AxesSubplot:title={'center':'Residuals for RandomForestRegressor Model'}, xlabel='Predicted Value', ylabel='Residuals'>"
      ]
     },
     "execution_count": 73,
     "metadata": {},
     "output_type": "execute_result"
    }
   ],
   "source": [
    "model = random_search.best_estimator_\n",
    "visualizer = ResidualsPlot(model, hist=True, qqplot=False)\n",
    "\n",
    "visualizer.fit(features, price)  \n",
    "visualizer.score(features_test, price_test)  \n",
    "visualizer.show()"
   ]
  },
  {
   "cell_type": "code",
   "execution_count": 74,
   "metadata": {
    "pycharm": {
     "name": "#%%\n"
    }
   },
   "outputs": [
    {
     "data": {
      "text/plain": [
       "['predicting_boston_house_prices_model.pkl']"
      ]
     },
     "execution_count": 74,
     "metadata": {},
     "output_type": "execute_result"
    }
   ],
   "source": [
    "joblib.dump(final_model, \"predicting_boston_house_prices_model.pkl\")"
   ]
  },
  {
   "cell_type": "code",
   "execution_count": null,
   "metadata": {
    "pycharm": {
     "name": "#%%\n"
    }
   },
   "outputs": [],
   "source": []
  },
  {
   "cell_type": "code",
   "execution_count": null,
   "metadata": {},
   "outputs": [],
   "source": [
    "    "
   ]
  }
 ],
 "metadata": {
  "interpreter": {
   "hash": "51d2715416f99ef6f24715e288ef8ebba4cd04bf9d63f9c963dc6696271314f0"
  },
  "kernelspec": {
   "display_name": "Python 3 (ipykernel)",
   "language": "python",
   "name": "python3"
  },
  "language_info": {
   "codemirror_mode": {
    "name": "ipython",
    "version": 3
   },
   "file_extension": ".py",
   "mimetype": "text/x-python",
   "name": "python",
   "nbconvert_exporter": "python",
   "pygments_lexer": "ipython3",
   "version": "3.10.4"
  }
 },
 "nbformat": 4,
 "nbformat_minor": 2
}
